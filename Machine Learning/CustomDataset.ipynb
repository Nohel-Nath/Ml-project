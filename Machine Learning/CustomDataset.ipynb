{
  "nbformat": 4,
  "nbformat_minor": 0,
  "metadata": {
    "colab": {
      "provenance": []
    },
    "kernelspec": {
      "name": "python3",
      "display_name": "Python 3"
    },
    "language_info": {
      "name": "python"
    }
  },
  "cells": [
    {
      "cell_type": "markdown",
      "metadata": {
        "id": "U84FPTu2MzMY"
      },
      "source": [
        "**DECISION TREE**"
      ]
    },
    {
      "cell_type": "code",
      "metadata": {
        "id": "ojhhR4iuM5wz"
      },
      "source": [
        "import numpy as np \n",
        "import pandas as pd \n",
        "import sklearn\n",
        "from sklearn.model_selection import train_test_split\n",
        "from sklearn.metrics import confusion_matrix \n",
        "from sklearn.tree import DecisionTreeClassifier \n",
        "from sklearn.metrics import accuracy_score \n",
        "from matplotlib import pyplot as plt\n",
        "from sklearn import tree"
      ],
      "execution_count": null,
      "outputs": []
    },
    {
      "cell_type": "code",
      "metadata": {
        "colab": {
          "base_uri": "https://localhost:8080/"
        },
        "id": "rwavM6ipNA7I",
        "outputId": "ce6c8a66-dd91-4dde-b9c0-ce667314e463"
      },
      "source": [
        "from google.colab import drive\n",
        "drive.mount('/content/drive')"
      ],
      "execution_count": null,
      "outputs": [
        {
          "output_type": "stream",
          "name": "stdout",
          "text": [
            "Mounted at /content/drive\n"
          ]
        }
      ]
    },
    {
      "cell_type": "code",
      "metadata": {
        "id": "FPupWQ2cNU0t"
      },
      "source": [
        "# load dataset\n",
        "df = pd.read_csv(\"/content/drive/MyDrive/ML/Grade Prediction Data.csv\", encoding='utf8', engine='python')\n"
      ],
      "execution_count": null,
      "outputs": []
    },
    {
      "cell_type": "code",
      "metadata": {
        "colab": {
          "base_uri": "https://localhost:8080/",
          "height": 258
        },
        "id": "DE4YqbAtPAvD",
        "outputId": "d3666e88-bd9f-4b11-f31f-cbcc090eb782"
      },
      "source": [
        "df.head()\n",
        "#df.replace(np.nan,0)"
      ],
      "execution_count": null,
      "outputs": [
        {
          "output_type": "execute_result",
          "data": {
            "text/html": [
              "<div>\n",
              "<style scoped>\n",
              "    .dataframe tbody tr th:only-of-type {\n",
              "        vertical-align: middle;\n",
              "    }\n",
              "\n",
              "    .dataframe tbody tr th {\n",
              "        vertical-align: top;\n",
              "    }\n",
              "\n",
              "    .dataframe thead th {\n",
              "        text-align: right;\n",
              "    }\n",
              "</style>\n",
              "<table border=\"1\" class=\"dataframe\">\n",
              "  <thead>\n",
              "    <tr style=\"text-align: right;\">\n",
              "      <th></th>\n",
              "      <th>Daily Study Hour (0 - )</th>\n",
              "      <th>Average CT Marks (0 - 20)</th>\n",
              "      <th>Class Attendance (percentage)</th>\n",
              "      <th>PL/SPL Study Hours (Daily) (0 - )</th>\n",
              "      <th>PL/SPL Sleeping Hours (Daily Average)</th>\n",
              "      <th>Average Sleeping Hours (Daily)</th>\n",
              "      <th>Social Media Hours (Daily Average)</th>\n",
              "      <th>PL/SPL Social Media Hours (Daily Average)</th>\n",
              "      <th>Concentration in Classes (0 - 10)</th>\n",
              "      <th>Confidence (0 - 10)</th>\n",
              "      <th>Final Grade (last Semester - 3-2) (GPA)</th>\n",
              "    </tr>\n",
              "  </thead>\n",
              "  <tbody>\n",
              "    <tr>\n",
              "      <th>0</th>\n",
              "      <td>1</td>\n",
              "      <td>8</td>\n",
              "      <td>65</td>\n",
              "      <td>12</td>\n",
              "      <td>6</td>\n",
              "      <td>8.0</td>\n",
              "      <td>3</td>\n",
              "      <td>1</td>\n",
              "      <td>NaN</td>\n",
              "      <td>3</td>\n",
              "      <td>3.25</td>\n",
              "    </tr>\n",
              "    <tr>\n",
              "      <th>1</th>\n",
              "      <td>2</td>\n",
              "      <td>12</td>\n",
              "      <td>95</td>\n",
              "      <td>9</td>\n",
              "      <td>10</td>\n",
              "      <td>10.0</td>\n",
              "      <td>2</td>\n",
              "      <td>1</td>\n",
              "      <td>7.0</td>\n",
              "      <td>7</td>\n",
              "      <td>3.84</td>\n",
              "    </tr>\n",
              "    <tr>\n",
              "      <th>2</th>\n",
              "      <td>2</td>\n",
              "      <td>15</td>\n",
              "      <td>96</td>\n",
              "      <td>13</td>\n",
              "      <td>6</td>\n",
              "      <td>8.0</td>\n",
              "      <td>5</td>\n",
              "      <td>2</td>\n",
              "      <td>5.0</td>\n",
              "      <td>8</td>\n",
              "      <td>3.61</td>\n",
              "    </tr>\n",
              "    <tr>\n",
              "      <th>3</th>\n",
              "      <td>1</td>\n",
              "      <td>9</td>\n",
              "      <td>70</td>\n",
              "      <td>6</td>\n",
              "      <td>8</td>\n",
              "      <td>8.0</td>\n",
              "      <td>3</td>\n",
              "      <td>2</td>\n",
              "      <td>7.0</td>\n",
              "      <td>9</td>\n",
              "      <td>3.41</td>\n",
              "    </tr>\n",
              "    <tr>\n",
              "      <th>4</th>\n",
              "      <td>1</td>\n",
              "      <td>8</td>\n",
              "      <td>60</td>\n",
              "      <td>10</td>\n",
              "      <td>9</td>\n",
              "      <td>8.0</td>\n",
              "      <td>2</td>\n",
              "      <td>2</td>\n",
              "      <td>3.0</td>\n",
              "      <td>4</td>\n",
              "      <td>3.14</td>\n",
              "    </tr>\n",
              "  </tbody>\n",
              "</table>\n",
              "</div>"
            ],
            "text/plain": [
              "   Daily Study Hour (0 - )  ...  Final Grade (last Semester - 3-2) (GPA) \n",
              "0                        1  ...                                      3.25\n",
              "1                        2  ...                                      3.84\n",
              "2                        2  ...                                      3.61\n",
              "3                        1  ...                                      3.41\n",
              "4                        1  ...                                      3.14\n",
              "\n",
              "[5 rows x 11 columns]"
            ]
          },
          "metadata": {},
          "execution_count": 7
        }
      ]
    },
    {
      "cell_type": "code",
      "metadata": {
        "colab": {
          "base_uri": "https://localhost:8080/"
        },
        "id": "JRg7_GhsPBtY",
        "outputId": "dc71b75f-a60f-45ee-b7a2-f7451de5fa0d"
      },
      "source": [
        "drive.flush_and_unmount()"
      ],
      "execution_count": null,
      "outputs": [
        {
          "output_type": "stream",
          "name": "stdout",
          "text": [
            "Drive not mounted, so nothing to flush and unmount.\n"
          ]
        }
      ]
    },
    {
      "cell_type": "code",
      "metadata": {
        "colab": {
          "base_uri": "https://localhost:8080/"
        },
        "id": "Cu8CD2l3PI6E",
        "outputId": "1b677fb8-230b-407d-a37b-661afa560a07"
      },
      "source": [
        "df = df.dropna()\n",
        "df.info()"
      ],
      "execution_count": null,
      "outputs": [
        {
          "output_type": "stream",
          "name": "stdout",
          "text": [
            "<class 'pandas.core.frame.DataFrame'>\n",
            "Int64Index: 87 entries, 1 to 87\n",
            "Data columns (total 11 columns):\n",
            " #   Column                                     Non-Null Count  Dtype  \n",
            "---  ------                                     --------------  -----  \n",
            " 0   Daily Study Hour (0 - )                    87 non-null     int64  \n",
            " 1   Average CT Marks (0 - 20)                  87 non-null     int64  \n",
            " 2   Class Attendance (percentage)              87 non-null     int64  \n",
            " 3   PL/SPL Study Hours (Daily) (0 - )          87 non-null     int64  \n",
            " 4   PL/SPL Sleeping Hours (Daily Average)      87 non-null     int64  \n",
            " 5   Average Sleeping Hours (Daily)             87 non-null     float64\n",
            " 6   Social Media Hours (Daily Average)         87 non-null     int64  \n",
            " 7   PL/SPL Social Media Hours (Daily Average)  87 non-null     int64  \n",
            " 8   Concentration in Classes (0 - 10)          87 non-null     float64\n",
            " 9   Confidence (0 - 10)                        87 non-null     int64  \n",
            " 10  Final Grade (last Semester - 3-2) (GPA)    87 non-null     float64\n",
            "dtypes: float64(3), int64(8)\n",
            "memory usage: 8.2 KB\n"
          ]
        }
      ]
    },
    {
      "cell_type": "code",
      "metadata": {
        "id": "U5g-s65vPRzJ"
      },
      "source": [
        "# feature selection\n",
        "feature_cols = ['Daily Study Hour (0 - )', 'Average CT Marks (0 - 20)', 'Class Attendance (percentage)', 'PL/SPL Study Hours (Daily) (0 - )',\n",
        "                'PL/SPL Sleeping Hours (Daily Average)', 'Average Sleeping Hours (Daily)', 'Social Media Hours (Daily Average)',\n",
        "                'PL/SPL Social Media Hours (Daily Average)','Concentration in Classes (0 - 10)','Confidence (0 - 10)']\n",
        "X = df[feature_cols].values.tolist()\n",
        "y = df['Final Grade (last Semester - 3-2) (GPA) '].values.tolist()"
      ],
      "execution_count": null,
      "outputs": []
    },
    {
      "cell_type": "code",
      "metadata": {
        "colab": {
          "base_uri": "https://localhost:8080/"
        },
        "id": "xGEryZxyPb2X",
        "outputId": "733bb6ff-1b2e-4ad6-b5c6-d7ada97adb1d"
      },
      "source": [
        "print(X[0:5])\n",
        "print(y[0:5])"
      ],
      "execution_count": null,
      "outputs": [
        {
          "output_type": "stream",
          "name": "stdout",
          "text": [
            "[[2.0, 12.0, 95.0, 9.0, 10.0, 10.0, 2.0, 1.0, 7.0, 7.0], [2.0, 15.0, 96.0, 13.0, 6.0, 8.0, 5.0, 2.0, 5.0, 8.0], [1.0, 9.0, 70.0, 6.0, 8.0, 8.0, 3.0, 2.0, 7.0, 9.0], [1.0, 8.0, 60.0, 10.0, 9.0, 8.0, 2.0, 2.0, 3.0, 4.0], [2.0, 15.0, 80.0, 10.0, 5.0, 7.0, 1.0, 0.0, 7.0, 9.0]]\n",
            "[3.84, 3.61, 3.41, 3.14, 3.88]\n"
          ]
        }
      ]
    },
    {
      "cell_type": "code",
      "metadata": {
        "id": "6o9FVflIPnRD"
      },
      "source": [
        "for i in range(len(y)):\n",
        "  if y[i]>=3.75:\n",
        "    y[i]=6\n",
        "  elif y[i]>= 3.5:\n",
        "    y[i]=5\n",
        "  elif y[i]>=3.25:\n",
        "    y[i]=4\n",
        "  elif y[i]>=3.0 :\n",
        "    y[i]=3\n",
        "  elif y[i]>=2.75 :\n",
        "    y[i]=2\n",
        "  elif y[i]>= 2.5:\n",
        "    y[i]=1\n",
        "  else:\n",
        "    y[i]=0"
      ],
      "execution_count": null,
      "outputs": []
    },
    {
      "cell_type": "code",
      "metadata": {
        "colab": {
          "base_uri": "https://localhost:8080/"
        },
        "id": "dtko_3MRPrsi",
        "outputId": "ddbfa76c-41a8-48c8-adfc-057e5bd4ae22"
      },
      "source": [
        "print(y[0:5])"
      ],
      "execution_count": null,
      "outputs": [
        {
          "output_type": "stream",
          "name": "stdout",
          "text": [
            "[6, 5, 4, 3, 6]\n"
          ]
        }
      ]
    },
    {
      "cell_type": "code",
      "metadata": {
        "id": "vl_qpM-4PwE-"
      },
      "source": [
        "# Split dataset into training set and test set\n",
        "X_train, X_test, y_train, y_test = train_test_split(X, y, test_size=0.2, random_state=42) # 80% training and 20% test"
      ],
      "execution_count": null,
      "outputs": []
    },
    {
      "cell_type": "code",
      "metadata": {
        "colab": {
          "base_uri": "https://localhost:8080/"
        },
        "id": "ARn6atZKP-Ap",
        "outputId": "574ba7c5-c0b3-4c44-a841-706b8af0f059"
      },
      "source": [
        "# Decision tree classifier \n",
        "DT = DecisionTreeClassifier(criterion='entropy')\n",
        "\n",
        "#fitting the training data\n",
        "DT.fit(X_train, y_train)"
      ],
      "execution_count": null,
      "outputs": [
        {
          "output_type": "execute_result",
          "data": {
            "text/plain": [
              "DecisionTreeClassifier(criterion='entropy')"
            ]
          },
          "metadata": {},
          "execution_count": 16
        }
      ]
    },
    {
      "cell_type": "code",
      "metadata": {
        "colab": {
          "base_uri": "https://localhost:8080/"
        },
        "id": "uuW6vePSQJS5",
        "outputId": "1999ae83-cfab-4fd5-bbfa-d3307ed3c2de"
      },
      "source": [
        "# prediction on random data\n",
        "Y_pred=DT.predict(X_train)\n",
        "print(Y_pred)\n",
        "\n",
        "# prediction on X_test (testing data )\n",
        "Y_pred=DT.predict(X_test)\n",
        "print(Y_pred)"
      ],
      "execution_count": null,
      "outputs": [
        {
          "output_type": "stream",
          "name": "stdout",
          "text": [
            "[5 6 5 6 5 4 3 3 6 2 6 6 6 6 6 4 2 6 6 4 4 6 6 6 6 6 3 6 3 6 6 6 6 3 4 3 6\n",
            " 6 4 4 6 6 6 6 5 4 6 6 6 5 6 6 6 6 6 6 5 5 6 5 4 6 4 3 5 6 4 5 4]\n",
            "[3 4 2 3 6 2 6 6 6 3 6 5 6 3 4 3 6 6]\n"
          ]
        }
      ]
    },
    {
      "cell_type": "code",
      "metadata": {
        "colab": {
          "base_uri": "https://localhost:8080/"
        },
        "id": "6xDa3IYjQ3QT",
        "outputId": "cd433c80-d281-4f73-c99a-20a1dcff8aed"
      },
      "source": [
        "#Accuray of the model \n",
        "print(\"Accuracy:\", accuracy_score(y_test, Y_pred))\n",
        "#confusion matrix\n",
        "cm=np.array(confusion_matrix(y_test, Y_pred))\n",
        "cm"
      ],
      "execution_count": null,
      "outputs": [
        {
          "output_type": "stream",
          "name": "stdout",
          "text": [
            "Accuracy: 0.5555555555555556\n"
          ]
        },
        {
          "output_type": "execute_result",
          "data": {
            "text/plain": [
              "array([[0, 0, 1, 0, 0, 0],\n",
              "       [0, 1, 0, 0, 1, 0],\n",
              "       [0, 0, 0, 0, 0, 0],\n",
              "       [0, 0, 3, 1, 0, 0],\n",
              "       [0, 0, 1, 0, 0, 0],\n",
              "       [0, 1, 0, 1, 0, 8]])"
            ]
          },
          "metadata": {},
          "execution_count": 20
        }
      ]
    },
    {
      "cell_type": "code",
      "metadata": {
        "colab": {
          "base_uri": "https://localhost:8080/",
          "height": 1000
        },
        "id": "yc-cJCz3R90g",
        "outputId": "7bebc2d9-7054-4f84-ef4a-1bdf3b338f0a"
      },
      "source": [
        "import graphviz \n",
        "dot_data = tree.export_graphviz(DT, out_file=None, \n",
        "                      feature_names=feature_cols,  \n",
        "                      class_names=['0','1','2','3','4','5','6'],  \n",
        "                      filled=True, rounded=True,  \n",
        "                      special_characters=True)  \n",
        "graph = graphviz.Source(dot_data)  \n",
        "graph"
      ],
      "execution_count": null,
      "outputs": [
        {
          "output_type": "execute_result",
          "data": {
            "text/plain": [
              "<graphviz.files.Source at 0x7fee0458fd50>"
            ],
            "image/svg+xml": "<?xml version=\"1.0\" encoding=\"UTF-8\" standalone=\"no\"?>\n<!DOCTYPE svg PUBLIC \"-//W3C//DTD SVG 1.1//EN\"\n \"http://www.w3.org/Graphics/SVG/1.1/DTD/svg11.dtd\">\n<!-- Generated by graphviz version 2.40.1 (20161225.0304)\n -->\n<!-- Title: Tree Pages: 1 -->\n<svg width=\"2687pt\" height=\"1147pt\"\n viewBox=\"0.00 0.00 2686.50 1147.00\" xmlns=\"http://www.w3.org/2000/svg\" xmlns:xlink=\"http://www.w3.org/1999/xlink\">\n<g id=\"graph0\" class=\"graph\" transform=\"scale(1 1) rotate(0) translate(4 1143)\">\n<title>Tree</title>\n<polygon fill=\"#ffffff\" stroke=\"transparent\" points=\"-4,4 -4,-1143 2682.5,-1143 2682.5,4 -4,4\"/>\n<!-- 0 -->\n<g id=\"node1\" class=\"node\">\n<title>0</title>\n<path fill=\"#f3a5e2\" stroke=\"#000000\" d=\"M1012.5,-1139C1012.5,-1139 805.5,-1139 805.5,-1139 799.5,-1139 793.5,-1133 793.5,-1127 793.5,-1127 793.5,-1068 793.5,-1068 793.5,-1062 799.5,-1056 805.5,-1056 805.5,-1056 1012.5,-1056 1012.5,-1056 1018.5,-1056 1024.5,-1062 1024.5,-1068 1024.5,-1068 1024.5,-1127 1024.5,-1127 1024.5,-1133 1018.5,-1139 1012.5,-1139\"/>\n<text text-anchor=\"start\" x=\"801.5\" y=\"-1123.8\" font-family=\"Helvetica,sans-Serif\" font-size=\"14.00\" fill=\"#000000\">Average CT Marks (0 &#45; 20) ≤ 10.5</text>\n<text text-anchor=\"start\" x=\"866.5\" y=\"-1108.8\" font-family=\"Helvetica,sans-Serif\" font-size=\"14.00\" fill=\"#000000\">entropy = 1.8</text>\n<text text-anchor=\"start\" x=\"865\" y=\"-1093.8\" font-family=\"Helvetica,sans-Serif\" font-size=\"14.00\" fill=\"#000000\">samples = 69</text>\n<text text-anchor=\"start\" x=\"831.5\" y=\"-1078.8\" font-family=\"Helvetica,sans-Serif\" font-size=\"14.00\" fill=\"#000000\">value = [2, 7, 12, 10, 38]</text>\n<text text-anchor=\"start\" x=\"880\" y=\"-1063.8\" font-family=\"Helvetica,sans-Serif\" font-size=\"14.00\" fill=\"#000000\">class = 4</text>\n</g>\n<!-- 1 -->\n<g id=\"node2\" class=\"node\">\n<title>1</title>\n<path fill=\"#caf5b0\" stroke=\"#000000\" d=\"M867.5,-1020C867.5,-1020 636.5,-1020 636.5,-1020 630.5,-1020 624.5,-1014 624.5,-1008 624.5,-1008 624.5,-949 624.5,-949 624.5,-943 630.5,-937 636.5,-937 636.5,-937 867.5,-937 867.5,-937 873.5,-937 879.5,-943 879.5,-949 879.5,-949 879.5,-1008 879.5,-1008 879.5,-1014 873.5,-1020 867.5,-1020\"/>\n<text text-anchor=\"start\" x=\"632.5\" y=\"-1004.8\" font-family=\"Helvetica,sans-Serif\" font-size=\"14.00\" fill=\"#000000\">Average Sleeping Hours (Daily) ≤ 8.5</text>\n<text text-anchor=\"start\" x=\"701\" y=\"-989.8\" font-family=\"Helvetica,sans-Serif\" font-size=\"14.00\" fill=\"#000000\">entropy = 1.959</text>\n<text text-anchor=\"start\" x=\"708\" y=\"-974.8\" font-family=\"Helvetica,sans-Serif\" font-size=\"14.00\" fill=\"#000000\">samples = 12</text>\n<text text-anchor=\"start\" x=\"687\" y=\"-959.8\" font-family=\"Helvetica,sans-Serif\" font-size=\"14.00\" fill=\"#000000\">value = [1, 6, 2, 1, 2]</text>\n<text text-anchor=\"start\" x=\"723\" y=\"-944.8\" font-family=\"Helvetica,sans-Serif\" font-size=\"14.00\" fill=\"#000000\">class = 1</text>\n</g>\n<!-- 0&#45;&gt;1 -->\n<g id=\"edge1\" class=\"edge\">\n<title>0&#45;&gt;1</title>\n<path fill=\"none\" stroke=\"#000000\" d=\"M854.089,-1055.8796C841.4206,-1046.2774 827.8485,-1035.9903 814.8705,-1026.1534\"/>\n<polygon fill=\"#000000\" stroke=\"#000000\" points=\"816.9636,-1023.3482 806.88,-1020.0969 812.7352,-1028.9268 816.9636,-1023.3482\"/>\n<text text-anchor=\"middle\" x=\"810.2898\" y=\"-1041.1633\" font-family=\"Helvetica,sans-Serif\" font-size=\"14.00\" fill=\"#000000\">True</text>\n</g>\n<!-- 14 -->\n<g id=\"node15\" class=\"node\">\n<title>14</title>\n<path fill=\"#f191dc\" stroke=\"#000000\" d=\"M1188.5,-1020C1188.5,-1020 949.5,-1020 949.5,-1020 943.5,-1020 937.5,-1014 937.5,-1008 937.5,-1008 937.5,-949 937.5,-949 937.5,-943 943.5,-937 949.5,-937 949.5,-937 1188.5,-937 1188.5,-937 1194.5,-937 1200.5,-943 1200.5,-949 1200.5,-949 1200.5,-1008 1200.5,-1008 1200.5,-1014 1194.5,-1020 1188.5,-1020\"/>\n<text text-anchor=\"start\" x=\"945.5\" y=\"-1004.8\" font-family=\"Helvetica,sans-Serif\" font-size=\"14.00\" fill=\"#000000\">Concentration in Classes (0 &#45; 10) ≤ 6.5</text>\n<text text-anchor=\"start\" x=\"1018\" y=\"-989.8\" font-family=\"Helvetica,sans-Serif\" font-size=\"14.00\" fill=\"#000000\">entropy = 1.484</text>\n<text text-anchor=\"start\" x=\"1025\" y=\"-974.8\" font-family=\"Helvetica,sans-Serif\" font-size=\"14.00\" fill=\"#000000\">samples = 57</text>\n<text text-anchor=\"start\" x=\"995.5\" y=\"-959.8\" font-family=\"Helvetica,sans-Serif\" font-size=\"14.00\" fill=\"#000000\">value = [1, 1, 10, 9, 36]</text>\n<text text-anchor=\"start\" x=\"1040\" y=\"-944.8\" font-family=\"Helvetica,sans-Serif\" font-size=\"14.00\" fill=\"#000000\">class = 4</text>\n</g>\n<!-- 0&#45;&gt;14 -->\n<g id=\"edge14\" class=\"edge\">\n<title>0&#45;&gt;14</title>\n<path fill=\"none\" stroke=\"#000000\" d=\"M964.9602,-1055.8796C977.8708,-1046.2774 991.7021,-1035.9903 1004.9282,-1026.1534\"/>\n<polygon fill=\"#000000\" stroke=\"#000000\" points=\"1007.1361,-1028.8732 1013.0714,-1020.0969 1002.9586,-1023.2564 1007.1361,-1028.8732\"/>\n<text text-anchor=\"middle\" x=\"1009.4366\" y=\"-1041.1313\" font-family=\"Helvetica,sans-Serif\" font-size=\"14.00\" fill=\"#000000\">False</text>\n</g>\n<!-- 2 -->\n<g id=\"node3\" class=\"node\">\n<title>2</title>\n<path fill=\"#b4f08e\" stroke=\"#000000\" d=\"M552,-901C552,-901 400,-901 400,-901 394,-901 388,-895 388,-889 388,-889 388,-830 388,-830 388,-824 394,-818 400,-818 400,-818 552,-818 552,-818 558,-818 564,-824 564,-830 564,-830 564,-889 564,-889 564,-895 558,-901 552,-901\"/>\n<text text-anchor=\"start\" x=\"396\" y=\"-885.8\" font-family=\"Helvetica,sans-Serif\" font-size=\"14.00\" fill=\"#000000\">Confidence (0 &#45; 10) ≤ 3.5</text>\n<text text-anchor=\"start\" x=\"425\" y=\"-870.8\" font-family=\"Helvetica,sans-Serif\" font-size=\"14.00\" fill=\"#000000\">entropy = 1.224</text>\n<text text-anchor=\"start\" x=\"436.5\" y=\"-855.8\" font-family=\"Helvetica,sans-Serif\" font-size=\"14.00\" fill=\"#000000\">samples = 9</text>\n<text text-anchor=\"start\" x=\"411\" y=\"-840.8\" font-family=\"Helvetica,sans-Serif\" font-size=\"14.00\" fill=\"#000000\">value = [1, 6, 2, 0, 0]</text>\n<text text-anchor=\"start\" x=\"447\" y=\"-825.8\" font-family=\"Helvetica,sans-Serif\" font-size=\"14.00\" fill=\"#000000\">class = 1</text>\n</g>\n<!-- 1&#45;&gt;2 -->\n<g id=\"edge2\" class=\"edge\">\n<title>1&#45;&gt;2</title>\n<path fill=\"none\" stroke=\"#000000\" d=\"M655.4686,-936.8796C628.9091,-925.4282 600.0904,-913.0028 573.4779,-901.5285\"/>\n<polygon fill=\"#000000\" stroke=\"#000000\" points=\"574.7327,-898.2581 564.1641,-897.5128 571.9612,-904.6861 574.7327,-898.2581\"/>\n</g>\n<!-- 11 -->\n<g id=\"node12\" class=\"node\">\n<title>11</title>\n<path fill=\"#f29ce0\" stroke=\"#000000\" d=\"M906.5,-901C906.5,-901 597.5,-901 597.5,-901 591.5,-901 585.5,-895 585.5,-889 585.5,-889 585.5,-830 585.5,-830 585.5,-824 591.5,-818 597.5,-818 597.5,-818 906.5,-818 906.5,-818 912.5,-818 918.5,-824 918.5,-830 918.5,-830 918.5,-889 918.5,-889 918.5,-895 912.5,-901 906.5,-901\"/>\n<text text-anchor=\"start\" x=\"593.5\" y=\"-885.8\" font-family=\"Helvetica,sans-Serif\" font-size=\"14.00\" fill=\"#000000\">PL/SPL Social Media Hours (Daily Average) ≤ 2.5</text>\n<text text-anchor=\"start\" x=\"701\" y=\"-870.8\" font-family=\"Helvetica,sans-Serif\" font-size=\"14.00\" fill=\"#000000\">entropy = 0.918</text>\n<text text-anchor=\"start\" x=\"712.5\" y=\"-855.8\" font-family=\"Helvetica,sans-Serif\" font-size=\"14.00\" fill=\"#000000\">samples = 3</text>\n<text text-anchor=\"start\" x=\"687\" y=\"-840.8\" font-family=\"Helvetica,sans-Serif\" font-size=\"14.00\" fill=\"#000000\">value = [0, 0, 0, 1, 2]</text>\n<text text-anchor=\"start\" x=\"723\" y=\"-825.8\" font-family=\"Helvetica,sans-Serif\" font-size=\"14.00\" fill=\"#000000\">class = 4</text>\n</g>\n<!-- 1&#45;&gt;11 -->\n<g id=\"edge11\" class=\"edge\">\n<title>1&#45;&gt;11</title>\n<path fill=\"none\" stroke=\"#000000\" d=\"M752,-936.8796C752,-928.6838 752,-919.9891 752,-911.5013\"/>\n<polygon fill=\"#000000\" stroke=\"#000000\" points=\"755.5001,-911.298 752,-901.2981 748.5001,-911.2981 755.5001,-911.298\"/>\n</g>\n<!-- 3 -->\n<g id=\"node4\" class=\"node\">\n<title>3</title>\n<path fill=\"#ffffff\" stroke=\"#000000\" d=\"M352.5,-782C352.5,-782 121.5,-782 121.5,-782 115.5,-782 109.5,-776 109.5,-770 109.5,-770 109.5,-711 109.5,-711 109.5,-705 115.5,-699 121.5,-699 121.5,-699 352.5,-699 352.5,-699 358.5,-699 364.5,-705 364.5,-711 364.5,-711 364.5,-770 364.5,-770 364.5,-776 358.5,-782 352.5,-782\"/>\n<text text-anchor=\"start\" x=\"117.5\" y=\"-766.8\" font-family=\"Helvetica,sans-Serif\" font-size=\"14.00\" fill=\"#000000\">Average Sleeping Hours (Daily) ≤ 7.5</text>\n<text text-anchor=\"start\" x=\"194.5\" y=\"-751.8\" font-family=\"Helvetica,sans-Serif\" font-size=\"14.00\" fill=\"#000000\">entropy = 1.0</text>\n<text text-anchor=\"start\" x=\"197.5\" y=\"-736.8\" font-family=\"Helvetica,sans-Serif\" font-size=\"14.00\" fill=\"#000000\">samples = 2</text>\n<text text-anchor=\"start\" x=\"172\" y=\"-721.8\" font-family=\"Helvetica,sans-Serif\" font-size=\"14.00\" fill=\"#000000\">value = [1, 0, 1, 0, 0]</text>\n<text text-anchor=\"start\" x=\"208\" y=\"-706.8\" font-family=\"Helvetica,sans-Serif\" font-size=\"14.00\" fill=\"#000000\">class = 0</text>\n</g>\n<!-- 2&#45;&gt;3 -->\n<g id=\"edge3\" class=\"edge\">\n<title>2&#45;&gt;3</title>\n<path fill=\"none\" stroke=\"#000000\" d=\"M392.4094,-817.8796C372.1237,-807.7791 350.316,-796.9209 329.6397,-786.626\"/>\n<polygon fill=\"#000000\" stroke=\"#000000\" points=\"331.0552,-783.421 320.5434,-782.0969 327.9351,-789.6872 331.0552,-783.421\"/>\n</g>\n<!-- 6 -->\n<g id=\"node7\" class=\"node\">\n<title>6</title>\n<path fill=\"#91e95a\" stroke=\"#000000\" d=\"M552,-782C552,-782 400,-782 400,-782 394,-782 388,-776 388,-770 388,-770 388,-711 388,-711 388,-705 394,-699 400,-699 400,-699 552,-699 552,-699 558,-699 564,-705 564,-711 564,-711 564,-770 564,-770 564,-776 558,-782 552,-782\"/>\n<text text-anchor=\"start\" x=\"396\" y=\"-766.8\" font-family=\"Helvetica,sans-Serif\" font-size=\"14.00\" fill=\"#000000\">Confidence (0 &#45; 10) ≤ 8.0</text>\n<text text-anchor=\"start\" x=\"425\" y=\"-751.8\" font-family=\"Helvetica,sans-Serif\" font-size=\"14.00\" fill=\"#000000\">entropy = 0.592</text>\n<text text-anchor=\"start\" x=\"436.5\" y=\"-736.8\" font-family=\"Helvetica,sans-Serif\" font-size=\"14.00\" fill=\"#000000\">samples = 7</text>\n<text text-anchor=\"start\" x=\"411\" y=\"-721.8\" font-family=\"Helvetica,sans-Serif\" font-size=\"14.00\" fill=\"#000000\">value = [0, 6, 1, 0, 0]</text>\n<text text-anchor=\"start\" x=\"447\" y=\"-706.8\" font-family=\"Helvetica,sans-Serif\" font-size=\"14.00\" fill=\"#000000\">class = 1</text>\n</g>\n<!-- 2&#45;&gt;6 -->\n<g id=\"edge6\" class=\"edge\">\n<title>2&#45;&gt;6</title>\n<path fill=\"none\" stroke=\"#000000\" d=\"M476,-817.8796C476,-809.6838 476,-800.9891 476,-792.5013\"/>\n<polygon fill=\"#000000\" stroke=\"#000000\" points=\"479.5001,-792.298 476,-782.2981 472.5001,-792.2981 479.5001,-792.298\"/>\n</g>\n<!-- 4 -->\n<g id=\"node5\" class=\"node\">\n<title>4</title>\n<path fill=\"#e58139\" stroke=\"#000000\" d=\"M134,-655.5C134,-655.5 12,-655.5 12,-655.5 6,-655.5 0,-649.5 0,-643.5 0,-643.5 0,-599.5 0,-599.5 0,-593.5 6,-587.5 12,-587.5 12,-587.5 134,-587.5 134,-587.5 140,-587.5 146,-593.5 146,-599.5 146,-599.5 146,-643.5 146,-643.5 146,-649.5 140,-655.5 134,-655.5\"/>\n<text text-anchor=\"start\" x=\"30.5\" y=\"-640.3\" font-family=\"Helvetica,sans-Serif\" font-size=\"14.00\" fill=\"#000000\">entropy = 0.0</text>\n<text text-anchor=\"start\" x=\"33.5\" y=\"-625.3\" font-family=\"Helvetica,sans-Serif\" font-size=\"14.00\" fill=\"#000000\">samples = 1</text>\n<text text-anchor=\"start\" x=\"8\" y=\"-610.3\" font-family=\"Helvetica,sans-Serif\" font-size=\"14.00\" fill=\"#000000\">value = [1, 0, 0, 0, 0]</text>\n<text text-anchor=\"start\" x=\"44\" y=\"-595.3\" font-family=\"Helvetica,sans-Serif\" font-size=\"14.00\" fill=\"#000000\">class = 0</text>\n</g>\n<!-- 3&#45;&gt;4 -->\n<g id=\"edge4\" class=\"edge\">\n<title>3&#45;&gt;4</title>\n<path fill=\"none\" stroke=\"#000000\" d=\"M179.6408,-698.8796C163.0439,-686.8368 144.9625,-673.7167 128.4824,-661.7586\"/>\n<polygon fill=\"#000000\" stroke=\"#000000\" points=\"130.176,-658.6632 120.0267,-655.623 126.0649,-664.3288 130.176,-658.6632\"/>\n</g>\n<!-- 5 -->\n<g id=\"node6\" class=\"node\">\n<title>5</title>\n<path fill=\"#39e5c5\" stroke=\"#000000\" d=\"M298,-655.5C298,-655.5 176,-655.5 176,-655.5 170,-655.5 164,-649.5 164,-643.5 164,-643.5 164,-599.5 164,-599.5 164,-593.5 170,-587.5 176,-587.5 176,-587.5 298,-587.5 298,-587.5 304,-587.5 310,-593.5 310,-599.5 310,-599.5 310,-643.5 310,-643.5 310,-649.5 304,-655.5 298,-655.5\"/>\n<text text-anchor=\"start\" x=\"194.5\" y=\"-640.3\" font-family=\"Helvetica,sans-Serif\" font-size=\"14.00\" fill=\"#000000\">entropy = 0.0</text>\n<text text-anchor=\"start\" x=\"197.5\" y=\"-625.3\" font-family=\"Helvetica,sans-Serif\" font-size=\"14.00\" fill=\"#000000\">samples = 1</text>\n<text text-anchor=\"start\" x=\"172\" y=\"-610.3\" font-family=\"Helvetica,sans-Serif\" font-size=\"14.00\" fill=\"#000000\">value = [0, 0, 1, 0, 0]</text>\n<text text-anchor=\"start\" x=\"208\" y=\"-595.3\" font-family=\"Helvetica,sans-Serif\" font-size=\"14.00\" fill=\"#000000\">class = 2</text>\n</g>\n<!-- 3&#45;&gt;5 -->\n<g id=\"edge5\" class=\"edge\">\n<title>3&#45;&gt;5</title>\n<path fill=\"none\" stroke=\"#000000\" d=\"M237,-698.8796C237,-688.2134 237,-676.7021 237,-665.9015\"/>\n<polygon fill=\"#000000\" stroke=\"#000000\" points=\"240.5001,-665.8149 237,-655.8149 233.5001,-665.815 240.5001,-665.8149\"/>\n</g>\n<!-- 7 -->\n<g id=\"node8\" class=\"node\">\n<title>7</title>\n<path fill=\"#7be539\" stroke=\"#000000\" d=\"M462,-655.5C462,-655.5 340,-655.5 340,-655.5 334,-655.5 328,-649.5 328,-643.5 328,-643.5 328,-599.5 328,-599.5 328,-593.5 334,-587.5 340,-587.5 340,-587.5 462,-587.5 462,-587.5 468,-587.5 474,-593.5 474,-599.5 474,-599.5 474,-643.5 474,-643.5 474,-649.5 468,-655.5 462,-655.5\"/>\n<text text-anchor=\"start\" x=\"358.5\" y=\"-640.3\" font-family=\"Helvetica,sans-Serif\" font-size=\"14.00\" fill=\"#000000\">entropy = 0.0</text>\n<text text-anchor=\"start\" x=\"361.5\" y=\"-625.3\" font-family=\"Helvetica,sans-Serif\" font-size=\"14.00\" fill=\"#000000\">samples = 5</text>\n<text text-anchor=\"start\" x=\"336\" y=\"-610.3\" font-family=\"Helvetica,sans-Serif\" font-size=\"14.00\" fill=\"#000000\">value = [0, 5, 0, 0, 0]</text>\n<text text-anchor=\"start\" x=\"372\" y=\"-595.3\" font-family=\"Helvetica,sans-Serif\" font-size=\"14.00\" fill=\"#000000\">class = 1</text>\n</g>\n<!-- 6&#45;&gt;7 -->\n<g id=\"edge7\" class=\"edge\">\n<title>6&#45;&gt;7</title>\n<path fill=\"none\" stroke=\"#000000\" d=\"M449.7686,-698.8796C442.769,-687.7735 435.192,-675.7513 428.1444,-664.5691\"/>\n<polygon fill=\"#000000\" stroke=\"#000000\" points=\"430.92,-662.4087 422.6271,-655.8149 424.998,-666.1411 430.92,-662.4087\"/>\n</g>\n<!-- 8 -->\n<g id=\"node9\" class=\"node\">\n<title>8</title>\n<path fill=\"#ffffff\" stroke=\"#000000\" d=\"M743.5,-663C743.5,-663 504.5,-663 504.5,-663 498.5,-663 492.5,-657 492.5,-651 492.5,-651 492.5,-592 492.5,-592 492.5,-586 498.5,-580 504.5,-580 504.5,-580 743.5,-580 743.5,-580 749.5,-580 755.5,-586 755.5,-592 755.5,-592 755.5,-651 755.5,-651 755.5,-657 749.5,-663 743.5,-663\"/>\n<text text-anchor=\"start\" x=\"500.5\" y=\"-647.8\" font-family=\"Helvetica,sans-Serif\" font-size=\"14.00\" fill=\"#000000\">PL/SPL Study Hours (Daily) (0 &#45; ) ≤ 6.5</text>\n<text text-anchor=\"start\" x=\"581.5\" y=\"-632.8\" font-family=\"Helvetica,sans-Serif\" font-size=\"14.00\" fill=\"#000000\">entropy = 1.0</text>\n<text text-anchor=\"start\" x=\"584.5\" y=\"-617.8\" font-family=\"Helvetica,sans-Serif\" font-size=\"14.00\" fill=\"#000000\">samples = 2</text>\n<text text-anchor=\"start\" x=\"559\" y=\"-602.8\" font-family=\"Helvetica,sans-Serif\" font-size=\"14.00\" fill=\"#000000\">value = [0, 1, 1, 0, 0]</text>\n<text text-anchor=\"start\" x=\"595\" y=\"-587.8\" font-family=\"Helvetica,sans-Serif\" font-size=\"14.00\" fill=\"#000000\">class = 1</text>\n</g>\n<!-- 6&#45;&gt;8 -->\n<g id=\"edge8\" class=\"edge\">\n<title>6&#45;&gt;8</title>\n<path fill=\"none\" stroke=\"#000000\" d=\"M527.7632,-698.8796C539.5928,-689.368 552.2581,-679.1843 564.3871,-669.432\"/>\n<polygon fill=\"#000000\" stroke=\"#000000\" points=\"566.6659,-672.0908 572.266,-663.0969 562.2796,-666.6355 566.6659,-672.0908\"/>\n</g>\n<!-- 9 -->\n<g id=\"node10\" class=\"node\">\n<title>9</title>\n<path fill=\"#39e5c5\" stroke=\"#000000\" d=\"M538,-536.5C538,-536.5 416,-536.5 416,-536.5 410,-536.5 404,-530.5 404,-524.5 404,-524.5 404,-480.5 404,-480.5 404,-474.5 410,-468.5 416,-468.5 416,-468.5 538,-468.5 538,-468.5 544,-468.5 550,-474.5 550,-480.5 550,-480.5 550,-524.5 550,-524.5 550,-530.5 544,-536.5 538,-536.5\"/>\n<text text-anchor=\"start\" x=\"434.5\" y=\"-521.3\" font-family=\"Helvetica,sans-Serif\" font-size=\"14.00\" fill=\"#000000\">entropy = 0.0</text>\n<text text-anchor=\"start\" x=\"437.5\" y=\"-506.3\" font-family=\"Helvetica,sans-Serif\" font-size=\"14.00\" fill=\"#000000\">samples = 1</text>\n<text text-anchor=\"start\" x=\"412\" y=\"-491.3\" font-family=\"Helvetica,sans-Serif\" font-size=\"14.00\" fill=\"#000000\">value = [0, 0, 1, 0, 0]</text>\n<text text-anchor=\"start\" x=\"448\" y=\"-476.3\" font-family=\"Helvetica,sans-Serif\" font-size=\"14.00\" fill=\"#000000\">class = 2</text>\n</g>\n<!-- 8&#45;&gt;9 -->\n<g id=\"edge9\" class=\"edge\">\n<title>8&#45;&gt;9</title>\n<path fill=\"none\" stroke=\"#000000\" d=\"M572.5865,-579.8796C557.9165,-568.0038 541.9523,-555.0804 527.3467,-543.2568\"/>\n<polygon fill=\"#000000\" stroke=\"#000000\" points=\"529.3637,-540.3866 519.389,-536.8149 524.9593,-545.8273 529.3637,-540.3866\"/>\n</g>\n<!-- 10 -->\n<g id=\"node11\" class=\"node\">\n<title>10</title>\n<path fill=\"#7be539\" stroke=\"#000000\" d=\"M702,-536.5C702,-536.5 580,-536.5 580,-536.5 574,-536.5 568,-530.5 568,-524.5 568,-524.5 568,-480.5 568,-480.5 568,-474.5 574,-468.5 580,-468.5 580,-468.5 702,-468.5 702,-468.5 708,-468.5 714,-474.5 714,-480.5 714,-480.5 714,-524.5 714,-524.5 714,-530.5 708,-536.5 702,-536.5\"/>\n<text text-anchor=\"start\" x=\"598.5\" y=\"-521.3\" font-family=\"Helvetica,sans-Serif\" font-size=\"14.00\" fill=\"#000000\">entropy = 0.0</text>\n<text text-anchor=\"start\" x=\"601.5\" y=\"-506.3\" font-family=\"Helvetica,sans-Serif\" font-size=\"14.00\" fill=\"#000000\">samples = 1</text>\n<text text-anchor=\"start\" x=\"576\" y=\"-491.3\" font-family=\"Helvetica,sans-Serif\" font-size=\"14.00\" fill=\"#000000\">value = [0, 1, 0, 0, 0]</text>\n<text text-anchor=\"start\" x=\"612\" y=\"-476.3\" font-family=\"Helvetica,sans-Serif\" font-size=\"14.00\" fill=\"#000000\">class = 1</text>\n</g>\n<!-- 8&#45;&gt;10 -->\n<g id=\"edge10\" class=\"edge\">\n<title>8&#45;&gt;10</title>\n<path fill=\"none\" stroke=\"#000000\" d=\"M629.9458,-579.8796C631.4695,-569.2134 633.114,-557.7021 634.6569,-546.9015\"/>\n<polygon fill=\"#000000\" stroke=\"#000000\" points=\"638.1484,-547.2094 636.0979,-536.8149 631.2187,-546.2194 638.1484,-547.2094\"/>\n</g>\n<!-- 12 -->\n<g id=\"node13\" class=\"node\">\n<title>12</title>\n<path fill=\"#e539c0\" stroke=\"#000000\" d=\"M721,-774.5C721,-774.5 599,-774.5 599,-774.5 593,-774.5 587,-768.5 587,-762.5 587,-762.5 587,-718.5 587,-718.5 587,-712.5 593,-706.5 599,-706.5 599,-706.5 721,-706.5 721,-706.5 727,-706.5 733,-712.5 733,-718.5 733,-718.5 733,-762.5 733,-762.5 733,-768.5 727,-774.5 721,-774.5\"/>\n<text text-anchor=\"start\" x=\"617.5\" y=\"-759.3\" font-family=\"Helvetica,sans-Serif\" font-size=\"14.00\" fill=\"#000000\">entropy = 0.0</text>\n<text text-anchor=\"start\" x=\"620.5\" y=\"-744.3\" font-family=\"Helvetica,sans-Serif\" font-size=\"14.00\" fill=\"#000000\">samples = 2</text>\n<text text-anchor=\"start\" x=\"595\" y=\"-729.3\" font-family=\"Helvetica,sans-Serif\" font-size=\"14.00\" fill=\"#000000\">value = [0, 0, 0, 0, 2]</text>\n<text text-anchor=\"start\" x=\"631\" y=\"-714.3\" font-family=\"Helvetica,sans-Serif\" font-size=\"14.00\" fill=\"#000000\">class = 4</text>\n</g>\n<!-- 11&#45;&gt;12 -->\n<g id=\"edge12\" class=\"edge\">\n<title>11&#45;&gt;12</title>\n<path fill=\"none\" stroke=\"#000000\" d=\"M719.8229,-817.8796C711.0667,-806.5536 701.5738,-794.2748 692.7844,-782.9058\"/>\n<polygon fill=\"#000000\" stroke=\"#000000\" points=\"695.4146,-780.5856 686.5292,-774.8149 689.8766,-784.8671 695.4146,-780.5856\"/>\n</g>\n<!-- 13 -->\n<g id=\"node14\" class=\"node\">\n<title>13</title>\n<path fill=\"#3c39e5\" stroke=\"#000000\" d=\"M885,-774.5C885,-774.5 763,-774.5 763,-774.5 757,-774.5 751,-768.5 751,-762.5 751,-762.5 751,-718.5 751,-718.5 751,-712.5 757,-706.5 763,-706.5 763,-706.5 885,-706.5 885,-706.5 891,-706.5 897,-712.5 897,-718.5 897,-718.5 897,-762.5 897,-762.5 897,-768.5 891,-774.5 885,-774.5\"/>\n<text text-anchor=\"start\" x=\"781.5\" y=\"-759.3\" font-family=\"Helvetica,sans-Serif\" font-size=\"14.00\" fill=\"#000000\">entropy = 0.0</text>\n<text text-anchor=\"start\" x=\"784.5\" y=\"-744.3\" font-family=\"Helvetica,sans-Serif\" font-size=\"14.00\" fill=\"#000000\">samples = 1</text>\n<text text-anchor=\"start\" x=\"759\" y=\"-729.3\" font-family=\"Helvetica,sans-Serif\" font-size=\"14.00\" fill=\"#000000\">value = [0, 0, 0, 1, 0]</text>\n<text text-anchor=\"start\" x=\"795\" y=\"-714.3\" font-family=\"Helvetica,sans-Serif\" font-size=\"14.00\" fill=\"#000000\">class = 3</text>\n</g>\n<!-- 11&#45;&gt;13 -->\n<g id=\"edge13\" class=\"edge\">\n<title>11&#45;&gt;13</title>\n<path fill=\"none\" stroke=\"#000000\" d=\"M777.1821,-817.8796C783.9017,-806.7735 791.1757,-794.7513 797.9414,-783.5691\"/>\n<polygon fill=\"#000000\" stroke=\"#000000\" points=\"801.0559,-785.1826 803.238,-774.8149 795.0668,-781.5589 801.0559,-785.1826\"/>\n</g>\n<!-- 15 -->\n<g id=\"node16\" class=\"node\">\n<title>15</title>\n<path fill=\"#f9d0f0\" stroke=\"#000000\" d=\"M1187,-901C1187,-901 951,-901 951,-901 945,-901 939,-895 939,-889 939,-889 939,-830 939,-830 939,-824 945,-818 951,-818 951,-818 1187,-818 1187,-818 1193,-818 1199,-824 1199,-830 1199,-830 1199,-889 1199,-889 1199,-895 1193,-901 1187,-901\"/>\n<text text-anchor=\"start\" x=\"947\" y=\"-885.8\" font-family=\"Helvetica,sans-Serif\" font-size=\"14.00\" fill=\"#000000\">Class Attendance (percentage) ≤ 87.5</text>\n<text text-anchor=\"start\" x=\"1018\" y=\"-870.8\" font-family=\"Helvetica,sans-Serif\" font-size=\"14.00\" fill=\"#000000\">entropy = 1.867</text>\n<text text-anchor=\"start\" x=\"1025\" y=\"-855.8\" font-family=\"Helvetica,sans-Serif\" font-size=\"14.00\" fill=\"#000000\">samples = 28</text>\n<text text-anchor=\"start\" x=\"999.5\" y=\"-840.8\" font-family=\"Helvetica,sans-Serif\" font-size=\"14.00\" fill=\"#000000\">value = [1, 1, 7, 7, 12]</text>\n<text text-anchor=\"start\" x=\"1040\" y=\"-825.8\" font-family=\"Helvetica,sans-Serif\" font-size=\"14.00\" fill=\"#000000\">class = 4</text>\n</g>\n<!-- 14&#45;&gt;15 -->\n<g id=\"edge15\" class=\"edge\">\n<title>14&#45;&gt;15</title>\n<path fill=\"none\" stroke=\"#000000\" d=\"M1069,-936.8796C1069,-928.6838 1069,-919.9891 1069,-911.5013\"/>\n<polygon fill=\"#000000\" stroke=\"#000000\" points=\"1072.5001,-911.298 1069,-901.2981 1065.5001,-911.2981 1072.5001,-911.298\"/>\n</g>\n<!-- 48 -->\n<g id=\"node49\" class=\"node\">\n<title>48</title>\n<path fill=\"#ea5fcc\" stroke=\"#000000\" d=\"M2151.5,-901C2151.5,-901 1944.5,-901 1944.5,-901 1938.5,-901 1932.5,-895 1932.5,-889 1932.5,-889 1932.5,-830 1932.5,-830 1932.5,-824 1938.5,-818 1944.5,-818 1944.5,-818 2151.5,-818 2151.5,-818 2157.5,-818 2163.5,-824 2163.5,-830 2163.5,-830 2163.5,-889 2163.5,-889 2163.5,-895 2157.5,-901 2151.5,-901\"/>\n<text text-anchor=\"start\" x=\"1940.5\" y=\"-885.8\" font-family=\"Helvetica,sans-Serif\" font-size=\"14.00\" fill=\"#000000\">Average CT Marks (0 &#45; 20) ≤ 13.5</text>\n<text text-anchor=\"start\" x=\"1997\" y=\"-870.8\" font-family=\"Helvetica,sans-Serif\" font-size=\"14.00\" fill=\"#000000\">entropy = 0.831</text>\n<text text-anchor=\"start\" x=\"2004\" y=\"-855.8\" font-family=\"Helvetica,sans-Serif\" font-size=\"14.00\" fill=\"#000000\">samples = 29</text>\n<text text-anchor=\"start\" x=\"1978.5\" y=\"-840.8\" font-family=\"Helvetica,sans-Serif\" font-size=\"14.00\" fill=\"#000000\">value = [0, 0, 3, 2, 24]</text>\n<text text-anchor=\"start\" x=\"2019\" y=\"-825.8\" font-family=\"Helvetica,sans-Serif\" font-size=\"14.00\" fill=\"#000000\">class = 4</text>\n</g>\n<!-- 14&#45;&gt;48 -->\n<g id=\"edge48\" class=\"edge\">\n<title>14&#45;&gt;48</title>\n<path fill=\"none\" stroke=\"#000000\" d=\"M1200.524,-962.5129C1389.7295,-939.5145 1736.3567,-897.3811 1922.2806,-874.7815\"/>\n<polygon fill=\"#000000\" stroke=\"#000000\" points=\"1922.8731,-878.2353 1932.3777,-873.5542 1922.0284,-871.2865 1922.8731,-878.2353\"/>\n</g>\n<!-- 16 -->\n<g id=\"node17\" class=\"node\">\n<title>16</title>\n<path fill=\"#f4aae4\" stroke=\"#000000\" d=\"M1193.5,-782C1193.5,-782 936.5,-782 936.5,-782 930.5,-782 924.5,-776 924.5,-770 924.5,-770 924.5,-711 924.5,-711 924.5,-705 930.5,-699 936.5,-699 936.5,-699 1193.5,-699 1193.5,-699 1199.5,-699 1205.5,-705 1205.5,-711 1205.5,-711 1205.5,-770 1205.5,-770 1205.5,-776 1199.5,-782 1193.5,-782\"/>\n<text text-anchor=\"start\" x=\"932.5\" y=\"-766.8\" font-family=\"Helvetica,sans-Serif\" font-size=\"14.00\" fill=\"#000000\">Social Media Hours (Daily Average) ≤ 1.5</text>\n<text text-anchor=\"start\" x=\"1014\" y=\"-751.8\" font-family=\"Helvetica,sans-Serif\" font-size=\"14.00\" fill=\"#000000\">entropy = 1.295</text>\n<text text-anchor=\"start\" x=\"1021\" y=\"-736.8\" font-family=\"Helvetica,sans-Serif\" font-size=\"14.00\" fill=\"#000000\">samples = 10</text>\n<text text-anchor=\"start\" x=\"1000\" y=\"-721.8\" font-family=\"Helvetica,sans-Serif\" font-size=\"14.00\" fill=\"#000000\">value = [0, 1, 3, 0, 6]</text>\n<text text-anchor=\"start\" x=\"1036\" y=\"-706.8\" font-family=\"Helvetica,sans-Serif\" font-size=\"14.00\" fill=\"#000000\">class = 4</text>\n</g>\n<!-- 15&#45;&gt;16 -->\n<g id=\"edge16\" class=\"edge\">\n<title>15&#45;&gt;16</title>\n<path fill=\"none\" stroke=\"#000000\" d=\"M1067.601,-817.8796C1067.3255,-809.6838 1067.0332,-800.9891 1066.7479,-792.5013\"/>\n<polygon fill=\"#000000\" stroke=\"#000000\" points=\"1070.239,-792.1748 1066.405,-782.2981 1063.243,-792.41 1070.239,-792.1748\"/>\n</g>\n<!-- 23 -->\n<g id=\"node24\" class=\"node\">\n<title>23</title>\n<path fill=\"#efeefd\" stroke=\"#000000\" d=\"M1466.5,-782C1466.5,-782 1235.5,-782 1235.5,-782 1229.5,-782 1223.5,-776 1223.5,-770 1223.5,-770 1223.5,-711 1223.5,-711 1223.5,-705 1229.5,-699 1235.5,-699 1235.5,-699 1466.5,-699 1466.5,-699 1472.5,-699 1478.5,-705 1478.5,-711 1478.5,-711 1478.5,-770 1478.5,-770 1478.5,-776 1472.5,-782 1466.5,-782\"/>\n<text text-anchor=\"start\" x=\"1231.5\" y=\"-766.8\" font-family=\"Helvetica,sans-Serif\" font-size=\"14.00\" fill=\"#000000\">Average Sleeping Hours (Daily) ≤ 6.5</text>\n<text text-anchor=\"start\" x=\"1300\" y=\"-751.8\" font-family=\"Helvetica,sans-Serif\" font-size=\"14.00\" fill=\"#000000\">entropy = 1.772</text>\n<text text-anchor=\"start\" x=\"1307\" y=\"-736.8\" font-family=\"Helvetica,sans-Serif\" font-size=\"14.00\" fill=\"#000000\">samples = 18</text>\n<text text-anchor=\"start\" x=\"1286\" y=\"-721.8\" font-family=\"Helvetica,sans-Serif\" font-size=\"14.00\" fill=\"#000000\">value = [1, 0, 4, 7, 6]</text>\n<text text-anchor=\"start\" x=\"1322\" y=\"-706.8\" font-family=\"Helvetica,sans-Serif\" font-size=\"14.00\" fill=\"#000000\">class = 3</text>\n</g>\n<!-- 15&#45;&gt;23 -->\n<g id=\"edge23\" class=\"edge\">\n<title>15&#45;&gt;23</title>\n<path fill=\"none\" stroke=\"#000000\" d=\"M1167.6299,-817.8796C1191.9947,-807.598 1218.2203,-796.5311 1243.0045,-786.0726\"/>\n<polygon fill=\"#000000\" stroke=\"#000000\" points=\"1244.5733,-789.2095 1252.4258,-782.0969 1241.8517,-782.7602 1244.5733,-789.2095\"/>\n</g>\n<!-- 17 -->\n<g id=\"node18\" class=\"node\">\n<title>17</title>\n<path fill=\"#7be539\" stroke=\"#000000\" d=\"M908,-655.5C908,-655.5 786,-655.5 786,-655.5 780,-655.5 774,-649.5 774,-643.5 774,-643.5 774,-599.5 774,-599.5 774,-593.5 780,-587.5 786,-587.5 786,-587.5 908,-587.5 908,-587.5 914,-587.5 920,-593.5 920,-599.5 920,-599.5 920,-643.5 920,-643.5 920,-649.5 914,-655.5 908,-655.5\"/>\n<text text-anchor=\"start\" x=\"804.5\" y=\"-640.3\" font-family=\"Helvetica,sans-Serif\" font-size=\"14.00\" fill=\"#000000\">entropy = 0.0</text>\n<text text-anchor=\"start\" x=\"807.5\" y=\"-625.3\" font-family=\"Helvetica,sans-Serif\" font-size=\"14.00\" fill=\"#000000\">samples = 1</text>\n<text text-anchor=\"start\" x=\"782\" y=\"-610.3\" font-family=\"Helvetica,sans-Serif\" font-size=\"14.00\" fill=\"#000000\">value = [0, 1, 0, 0, 0]</text>\n<text text-anchor=\"start\" x=\"818\" y=\"-595.3\" font-family=\"Helvetica,sans-Serif\" font-size=\"14.00\" fill=\"#000000\">class = 1</text>\n</g>\n<!-- 16&#45;&gt;17 -->\n<g id=\"edge17\" class=\"edge\">\n<title>16&#45;&gt;17</title>\n<path fill=\"none\" stroke=\"#000000\" d=\"M988.7542,-698.8796C965.883,-686.3948 940.8907,-672.7523 918.3481,-660.4469\"/>\n<polygon fill=\"#000000\" stroke=\"#000000\" points=\"919.9655,-657.3423 909.5111,-655.623 916.6115,-663.4865 919.9655,-657.3423\"/>\n</g>\n<!-- 18 -->\n<g id=\"node19\" class=\"node\">\n<title>18</title>\n<path fill=\"#f29ce0\" stroke=\"#000000\" d=\"M1181.5,-663C1181.5,-663 950.5,-663 950.5,-663 944.5,-663 938.5,-657 938.5,-651 938.5,-651 938.5,-592 938.5,-592 938.5,-586 944.5,-580 950.5,-580 950.5,-580 1181.5,-580 1181.5,-580 1187.5,-580 1193.5,-586 1193.5,-592 1193.5,-592 1193.5,-651 1193.5,-651 1193.5,-657 1187.5,-663 1181.5,-663\"/>\n<text text-anchor=\"start\" x=\"946.5\" y=\"-647.8\" font-family=\"Helvetica,sans-Serif\" font-size=\"14.00\" fill=\"#000000\">Average Sleeping Hours (Daily) ≤ 7.5</text>\n<text text-anchor=\"start\" x=\"1015\" y=\"-632.8\" font-family=\"Helvetica,sans-Serif\" font-size=\"14.00\" fill=\"#000000\">entropy = 0.918</text>\n<text text-anchor=\"start\" x=\"1026.5\" y=\"-617.8\" font-family=\"Helvetica,sans-Serif\" font-size=\"14.00\" fill=\"#000000\">samples = 9</text>\n<text text-anchor=\"start\" x=\"1001\" y=\"-602.8\" font-family=\"Helvetica,sans-Serif\" font-size=\"14.00\" fill=\"#000000\">value = [0, 0, 3, 0, 6]</text>\n<text text-anchor=\"start\" x=\"1037\" y=\"-587.8\" font-family=\"Helvetica,sans-Serif\" font-size=\"14.00\" fill=\"#000000\">class = 4</text>\n</g>\n<!-- 16&#45;&gt;18 -->\n<g id=\"edge18\" class=\"edge\">\n<title>16&#45;&gt;18</title>\n<path fill=\"none\" stroke=\"#000000\" d=\"M1065.3498,-698.8796C1065.4186,-690.6838 1065.4917,-681.9891 1065.563,-673.5013\"/>\n<polygon fill=\"#000000\" stroke=\"#000000\" points=\"1069.0645,-673.3272 1065.6488,-663.2981 1062.0648,-673.2683 1069.0645,-673.3272\"/>\n</g>\n<!-- 19 -->\n<g id=\"node20\" class=\"node\">\n<title>19</title>\n<path fill=\"#e539c0\" stroke=\"#000000\" d=\"M883,-536.5C883,-536.5 761,-536.5 761,-536.5 755,-536.5 749,-530.5 749,-524.5 749,-524.5 749,-480.5 749,-480.5 749,-474.5 755,-468.5 761,-468.5 761,-468.5 883,-468.5 883,-468.5 889,-468.5 895,-474.5 895,-480.5 895,-480.5 895,-524.5 895,-524.5 895,-530.5 889,-536.5 883,-536.5\"/>\n<text text-anchor=\"start\" x=\"779.5\" y=\"-521.3\" font-family=\"Helvetica,sans-Serif\" font-size=\"14.00\" fill=\"#000000\">entropy = 0.0</text>\n<text text-anchor=\"start\" x=\"782.5\" y=\"-506.3\" font-family=\"Helvetica,sans-Serif\" font-size=\"14.00\" fill=\"#000000\">samples = 4</text>\n<text text-anchor=\"start\" x=\"757\" y=\"-491.3\" font-family=\"Helvetica,sans-Serif\" font-size=\"14.00\" fill=\"#000000\">value = [0, 0, 0, 0, 4]</text>\n<text text-anchor=\"start\" x=\"793\" y=\"-476.3\" font-family=\"Helvetica,sans-Serif\" font-size=\"14.00\" fill=\"#000000\">class = 4</text>\n</g>\n<!-- 18&#45;&gt;19 -->\n<g id=\"edge19\" class=\"edge\">\n<title>18&#45;&gt;19</title>\n<path fill=\"none\" stroke=\"#000000\" d=\"M977.3678,-579.9442C953.1801,-568.4445 927.0221,-555.8613 903,-544 901.1936,-543.1081 899.3662,-542.202 897.5244,-541.2855\"/>\n<polygon fill=\"#000000\" stroke=\"#000000\" points=\"898.7349,-537.9775 888.2258,-536.6324 895.6023,-544.2375 898.7349,-537.9775\"/>\n</g>\n<!-- 20 -->\n<g id=\"node21\" class=\"node\">\n<title>20</title>\n<path fill=\"#bdf6ec\" stroke=\"#000000\" d=\"M1207.5,-544C1207.5,-544 924.5,-544 924.5,-544 918.5,-544 912.5,-538 912.5,-532 912.5,-532 912.5,-473 912.5,-473 912.5,-467 918.5,-461 924.5,-461 924.5,-461 1207.5,-461 1207.5,-461 1213.5,-461 1219.5,-467 1219.5,-473 1219.5,-473 1219.5,-532 1219.5,-532 1219.5,-538 1213.5,-544 1207.5,-544\"/>\n<text text-anchor=\"start\" x=\"920.5\" y=\"-528.8\" font-family=\"Helvetica,sans-Serif\" font-size=\"14.00\" fill=\"#000000\">PL/SPL Sleeping Hours (Daily Average) ≤ 7.5</text>\n<text text-anchor=\"start\" x=\"1015\" y=\"-513.8\" font-family=\"Helvetica,sans-Serif\" font-size=\"14.00\" fill=\"#000000\">entropy = 0.971</text>\n<text text-anchor=\"start\" x=\"1026.5\" y=\"-498.8\" font-family=\"Helvetica,sans-Serif\" font-size=\"14.00\" fill=\"#000000\">samples = 5</text>\n<text text-anchor=\"start\" x=\"1001\" y=\"-483.8\" font-family=\"Helvetica,sans-Serif\" font-size=\"14.00\" fill=\"#000000\">value = [0, 0, 3, 0, 2]</text>\n<text text-anchor=\"start\" x=\"1037\" y=\"-468.8\" font-family=\"Helvetica,sans-Serif\" font-size=\"14.00\" fill=\"#000000\">class = 2</text>\n</g>\n<!-- 18&#45;&gt;20 -->\n<g id=\"edge20\" class=\"edge\">\n<title>18&#45;&gt;20</title>\n<path fill=\"none\" stroke=\"#000000\" d=\"M1066,-579.8796C1066,-571.6838 1066,-562.9891 1066,-554.5013\"/>\n<polygon fill=\"#000000\" stroke=\"#000000\" points=\"1069.5001,-554.298 1066,-544.2981 1062.5001,-554.2981 1069.5001,-554.298\"/>\n</g>\n<!-- 21 -->\n<g id=\"node22\" class=\"node\">\n<title>21</title>\n<path fill=\"#39e5c5\" stroke=\"#000000\" d=\"M963,-417.5C963,-417.5 841,-417.5 841,-417.5 835,-417.5 829,-411.5 829,-405.5 829,-405.5 829,-361.5 829,-361.5 829,-355.5 835,-349.5 841,-349.5 841,-349.5 963,-349.5 963,-349.5 969,-349.5 975,-355.5 975,-361.5 975,-361.5 975,-405.5 975,-405.5 975,-411.5 969,-417.5 963,-417.5\"/>\n<text text-anchor=\"start\" x=\"859.5\" y=\"-402.3\" font-family=\"Helvetica,sans-Serif\" font-size=\"14.00\" fill=\"#000000\">entropy = 0.0</text>\n<text text-anchor=\"start\" x=\"862.5\" y=\"-387.3\" font-family=\"Helvetica,sans-Serif\" font-size=\"14.00\" fill=\"#000000\">samples = 3</text>\n<text text-anchor=\"start\" x=\"837\" y=\"-372.3\" font-family=\"Helvetica,sans-Serif\" font-size=\"14.00\" fill=\"#000000\">value = [0, 0, 3, 0, 0]</text>\n<text text-anchor=\"start\" x=\"873\" y=\"-357.3\" font-family=\"Helvetica,sans-Serif\" font-size=\"14.00\" fill=\"#000000\">class = 2</text>\n</g>\n<!-- 20&#45;&gt;21 -->\n<g id=\"edge21\" class=\"edge\">\n<title>20&#45;&gt;21</title>\n<path fill=\"none\" stroke=\"#000000\" d=\"M1008.6408,-460.8796C992.0439,-448.8368 973.9625,-435.7167 957.4824,-423.7586\"/>\n<polygon fill=\"#000000\" stroke=\"#000000\" points=\"959.176,-420.6632 949.0267,-417.623 955.0649,-426.3288 959.176,-420.6632\"/>\n</g>\n<!-- 22 -->\n<g id=\"node23\" class=\"node\">\n<title>22</title>\n<path fill=\"#e539c0\" stroke=\"#000000\" d=\"M1127,-417.5C1127,-417.5 1005,-417.5 1005,-417.5 999,-417.5 993,-411.5 993,-405.5 993,-405.5 993,-361.5 993,-361.5 993,-355.5 999,-349.5 1005,-349.5 1005,-349.5 1127,-349.5 1127,-349.5 1133,-349.5 1139,-355.5 1139,-361.5 1139,-361.5 1139,-405.5 1139,-405.5 1139,-411.5 1133,-417.5 1127,-417.5\"/>\n<text text-anchor=\"start\" x=\"1023.5\" y=\"-402.3\" font-family=\"Helvetica,sans-Serif\" font-size=\"14.00\" fill=\"#000000\">entropy = 0.0</text>\n<text text-anchor=\"start\" x=\"1026.5\" y=\"-387.3\" font-family=\"Helvetica,sans-Serif\" font-size=\"14.00\" fill=\"#000000\">samples = 2</text>\n<text text-anchor=\"start\" x=\"1001\" y=\"-372.3\" font-family=\"Helvetica,sans-Serif\" font-size=\"14.00\" fill=\"#000000\">value = [0, 0, 0, 0, 2]</text>\n<text text-anchor=\"start\" x=\"1037\" y=\"-357.3\" font-family=\"Helvetica,sans-Serif\" font-size=\"14.00\" fill=\"#000000\">class = 4</text>\n</g>\n<!-- 20&#45;&gt;22 -->\n<g id=\"edge22\" class=\"edge\">\n<title>20&#45;&gt;22</title>\n<path fill=\"none\" stroke=\"#000000\" d=\"M1066,-460.8796C1066,-450.2134 1066,-438.7021 1066,-427.9015\"/>\n<polygon fill=\"#000000\" stroke=\"#000000\" points=\"1069.5001,-427.8149 1066,-417.8149 1062.5001,-427.815 1069.5001,-427.8149\"/>\n</g>\n<!-- 24 -->\n<g id=\"node25\" class=\"node\">\n<title>24</title>\n<path fill=\"#e58139\" stroke=\"#000000\" d=\"M1392,-655.5C1392,-655.5 1270,-655.5 1270,-655.5 1264,-655.5 1258,-649.5 1258,-643.5 1258,-643.5 1258,-599.5 1258,-599.5 1258,-593.5 1264,-587.5 1270,-587.5 1270,-587.5 1392,-587.5 1392,-587.5 1398,-587.5 1404,-593.5 1404,-599.5 1404,-599.5 1404,-643.5 1404,-643.5 1404,-649.5 1398,-655.5 1392,-655.5\"/>\n<text text-anchor=\"start\" x=\"1288.5\" y=\"-640.3\" font-family=\"Helvetica,sans-Serif\" font-size=\"14.00\" fill=\"#000000\">entropy = 0.0</text>\n<text text-anchor=\"start\" x=\"1291.5\" y=\"-625.3\" font-family=\"Helvetica,sans-Serif\" font-size=\"14.00\" fill=\"#000000\">samples = 1</text>\n<text text-anchor=\"start\" x=\"1266\" y=\"-610.3\" font-family=\"Helvetica,sans-Serif\" font-size=\"14.00\" fill=\"#000000\">value = [1, 0, 0, 0, 0]</text>\n<text text-anchor=\"start\" x=\"1302\" y=\"-595.3\" font-family=\"Helvetica,sans-Serif\" font-size=\"14.00\" fill=\"#000000\">class = 0</text>\n</g>\n<!-- 23&#45;&gt;24 -->\n<g id=\"edge24\" class=\"edge\">\n<title>23&#45;&gt;24</title>\n<path fill=\"none\" stroke=\"#000000\" d=\"M1344.005,-698.8796C1342.2123,-688.2134 1340.2777,-676.7021 1338.4624,-665.9015\"/>\n<polygon fill=\"#000000\" stroke=\"#000000\" points=\"1341.8763,-665.0965 1336.7672,-655.8149 1334.9731,-666.2568 1341.8763,-665.0965\"/>\n</g>\n<!-- 25 -->\n<g id=\"node26\" class=\"node\">\n<title>25</title>\n<path fill=\"#ededfd\" stroke=\"#000000\" d=\"M1586,-663C1586,-663 1434,-663 1434,-663 1428,-663 1422,-657 1422,-651 1422,-651 1422,-592 1422,-592 1422,-586 1428,-580 1434,-580 1434,-580 1586,-580 1586,-580 1592,-580 1598,-586 1598,-592 1598,-592 1598,-651 1598,-651 1598,-657 1592,-663 1586,-663\"/>\n<text text-anchor=\"start\" x=\"1430\" y=\"-647.8\" font-family=\"Helvetica,sans-Serif\" font-size=\"14.00\" fill=\"#000000\">Confidence (0 &#45; 10) ≤ 4.5</text>\n<text text-anchor=\"start\" x=\"1459\" y=\"-632.8\" font-family=\"Helvetica,sans-Serif\" font-size=\"14.00\" fill=\"#000000\">entropy = 1.549</text>\n<text text-anchor=\"start\" x=\"1466\" y=\"-617.8\" font-family=\"Helvetica,sans-Serif\" font-size=\"14.00\" fill=\"#000000\">samples = 17</text>\n<text text-anchor=\"start\" x=\"1445\" y=\"-602.8\" font-family=\"Helvetica,sans-Serif\" font-size=\"14.00\" fill=\"#000000\">value = [0, 0, 4, 7, 6]</text>\n<text text-anchor=\"start\" x=\"1481\" y=\"-587.8\" font-family=\"Helvetica,sans-Serif\" font-size=\"14.00\" fill=\"#000000\">class = 3</text>\n</g>\n<!-- 23&#45;&gt;25 -->\n<g id=\"edge25\" class=\"edge\">\n<title>23&#45;&gt;25</title>\n<path fill=\"none\" stroke=\"#000000\" d=\"M1406.6105,-698.8796C1419.4403,-689.2774 1433.1852,-678.9903 1446.3286,-669.1534\"/>\n<polygon fill=\"#000000\" stroke=\"#000000\" points=\"1448.5121,-671.891 1454.4209,-663.0969 1444.3177,-666.2868 1448.5121,-671.891\"/>\n</g>\n<!-- 26 -->\n<g id=\"node27\" class=\"node\">\n<title>26</title>\n<path fill=\"#ee7bd5\" stroke=\"#000000\" d=\"M1592.5,-544C1592.5,-544 1385.5,-544 1385.5,-544 1379.5,-544 1373.5,-538 1373.5,-532 1373.5,-532 1373.5,-473 1373.5,-473 1373.5,-467 1379.5,-461 1385.5,-461 1385.5,-461 1592.5,-461 1592.5,-461 1598.5,-461 1604.5,-467 1604.5,-473 1604.5,-473 1604.5,-532 1604.5,-532 1604.5,-538 1598.5,-544 1592.5,-544\"/>\n<text text-anchor=\"start\" x=\"1381.5\" y=\"-528.8\" font-family=\"Helvetica,sans-Serif\" font-size=\"14.00\" fill=\"#000000\">Average CT Marks (0 &#45; 20) ≤ 13.5</text>\n<text text-anchor=\"start\" x=\"1438\" y=\"-513.8\" font-family=\"Helvetica,sans-Serif\" font-size=\"14.00\" fill=\"#000000\">entropy = 0.811</text>\n<text text-anchor=\"start\" x=\"1449.5\" y=\"-498.8\" font-family=\"Helvetica,sans-Serif\" font-size=\"14.00\" fill=\"#000000\">samples = 4</text>\n<text text-anchor=\"start\" x=\"1424\" y=\"-483.8\" font-family=\"Helvetica,sans-Serif\" font-size=\"14.00\" fill=\"#000000\">value = [0, 0, 1, 0, 3]</text>\n<text text-anchor=\"start\" x=\"1460\" y=\"-468.8\" font-family=\"Helvetica,sans-Serif\" font-size=\"14.00\" fill=\"#000000\">class = 4</text>\n</g>\n<!-- 25&#45;&gt;26 -->\n<g id=\"edge26\" class=\"edge\">\n<title>25&#45;&gt;26</title>\n<path fill=\"none\" stroke=\"#000000\" d=\"M1502.6552,-579.8796C1501.193,-571.5938 1499.6408,-562.798 1498.1273,-554.2216\"/>\n<polygon fill=\"#000000\" stroke=\"#000000\" points=\"1501.5608,-553.5376 1496.3761,-544.2981 1494.6673,-554.7542 1501.5608,-553.5376\"/>\n</g>\n<!-- 31 -->\n<g id=\"node32\" class=\"node\">\n<title>31</title>\n<path fill=\"#b1b0f5\" stroke=\"#000000\" d=\"M1865.5,-544C1865.5,-544 1634.5,-544 1634.5,-544 1628.5,-544 1622.5,-538 1622.5,-532 1622.5,-532 1622.5,-473 1622.5,-473 1622.5,-467 1628.5,-461 1634.5,-461 1634.5,-461 1865.5,-461 1865.5,-461 1871.5,-461 1877.5,-467 1877.5,-473 1877.5,-473 1877.5,-532 1877.5,-532 1877.5,-538 1871.5,-544 1865.5,-544\"/>\n<text text-anchor=\"start\" x=\"1630.5\" y=\"-528.8\" font-family=\"Helvetica,sans-Serif\" font-size=\"14.00\" fill=\"#000000\">Average Sleeping Hours (Daily) ≤ 7.5</text>\n<text text-anchor=\"start\" x=\"1699\" y=\"-513.8\" font-family=\"Helvetica,sans-Serif\" font-size=\"14.00\" fill=\"#000000\">entropy = 1.457</text>\n<text text-anchor=\"start\" x=\"1706\" y=\"-498.8\" font-family=\"Helvetica,sans-Serif\" font-size=\"14.00\" fill=\"#000000\">samples = 13</text>\n<text text-anchor=\"start\" x=\"1685\" y=\"-483.8\" font-family=\"Helvetica,sans-Serif\" font-size=\"14.00\" fill=\"#000000\">value = [0, 0, 3, 7, 3]</text>\n<text text-anchor=\"start\" x=\"1721\" y=\"-468.8\" font-family=\"Helvetica,sans-Serif\" font-size=\"14.00\" fill=\"#000000\">class = 3</text>\n</g>\n<!-- 25&#45;&gt;31 -->\n<g id=\"edge31\" class=\"edge\">\n<title>25&#45;&gt;31</title>\n<path fill=\"none\" stroke=\"#000000\" d=\"M1593.9404,-579.8796C1614.311,-569.7791 1636.2099,-558.9209 1656.9727,-548.626\"/>\n<polygon fill=\"#000000\" stroke=\"#000000\" points=\"1658.7027,-551.6749 1666.107,-544.0969 1655.5931,-545.4035 1658.7027,-551.6749\"/>\n</g>\n<!-- 27 -->\n<g id=\"node28\" class=\"node\">\n<title>27</title>\n<path fill=\"#ffffff\" stroke=\"#000000\" d=\"M1426.5,-425C1426.5,-425 1169.5,-425 1169.5,-425 1163.5,-425 1157.5,-419 1157.5,-413 1157.5,-413 1157.5,-354 1157.5,-354 1157.5,-348 1163.5,-342 1169.5,-342 1169.5,-342 1426.5,-342 1426.5,-342 1432.5,-342 1438.5,-348 1438.5,-354 1438.5,-354 1438.5,-413 1438.5,-413 1438.5,-419 1432.5,-425 1426.5,-425\"/>\n<text text-anchor=\"start\" x=\"1165.5\" y=\"-409.8\" font-family=\"Helvetica,sans-Serif\" font-size=\"14.00\" fill=\"#000000\">Social Media Hours (Daily Average) ≤ 2.5</text>\n<text text-anchor=\"start\" x=\"1255.5\" y=\"-394.8\" font-family=\"Helvetica,sans-Serif\" font-size=\"14.00\" fill=\"#000000\">entropy = 1.0</text>\n<text text-anchor=\"start\" x=\"1258.5\" y=\"-379.8\" font-family=\"Helvetica,sans-Serif\" font-size=\"14.00\" fill=\"#000000\">samples = 2</text>\n<text text-anchor=\"start\" x=\"1233\" y=\"-364.8\" font-family=\"Helvetica,sans-Serif\" font-size=\"14.00\" fill=\"#000000\">value = [0, 0, 1, 0, 1]</text>\n<text text-anchor=\"start\" x=\"1269\" y=\"-349.8\" font-family=\"Helvetica,sans-Serif\" font-size=\"14.00\" fill=\"#000000\">class = 2</text>\n</g>\n<!-- 26&#45;&gt;27 -->\n<g id=\"edge27\" class=\"edge\">\n<title>26&#45;&gt;27</title>\n<path fill=\"none\" stroke=\"#000000\" d=\"M1422.1975,-460.8796C1406.4947,-451.0962 1389.6509,-440.6019 1373.5929,-430.5971\"/>\n<polygon fill=\"#000000\" stroke=\"#000000\" points=\"1375.1031,-427.4144 1364.7648,-425.0969 1371.4015,-433.3556 1375.1031,-427.4144\"/>\n</g>\n<!-- 30 -->\n<g id=\"node31\" class=\"node\">\n<title>30</title>\n<path fill=\"#e539c0\" stroke=\"#000000\" d=\"M1591,-417.5C1591,-417.5 1469,-417.5 1469,-417.5 1463,-417.5 1457,-411.5 1457,-405.5 1457,-405.5 1457,-361.5 1457,-361.5 1457,-355.5 1463,-349.5 1469,-349.5 1469,-349.5 1591,-349.5 1591,-349.5 1597,-349.5 1603,-355.5 1603,-361.5 1603,-361.5 1603,-405.5 1603,-405.5 1603,-411.5 1597,-417.5 1591,-417.5\"/>\n<text text-anchor=\"start\" x=\"1487.5\" y=\"-402.3\" font-family=\"Helvetica,sans-Serif\" font-size=\"14.00\" fill=\"#000000\">entropy = 0.0</text>\n<text text-anchor=\"start\" x=\"1490.5\" y=\"-387.3\" font-family=\"Helvetica,sans-Serif\" font-size=\"14.00\" fill=\"#000000\">samples = 2</text>\n<text text-anchor=\"start\" x=\"1465\" y=\"-372.3\" font-family=\"Helvetica,sans-Serif\" font-size=\"14.00\" fill=\"#000000\">value = [0, 0, 0, 0, 2]</text>\n<text text-anchor=\"start\" x=\"1501\" y=\"-357.3\" font-family=\"Helvetica,sans-Serif\" font-size=\"14.00\" fill=\"#000000\">class = 4</text>\n</g>\n<!-- 26&#45;&gt;30 -->\n<g id=\"edge30\" class=\"edge\">\n<title>26&#45;&gt;30</title>\n<path fill=\"none\" stroke=\"#000000\" d=\"M1503.3398,-460.8796C1507.0526,-450.1034 1511.0626,-438.4647 1514.817,-427.5677\"/>\n<polygon fill=\"#000000\" stroke=\"#000000\" points=\"1518.2288,-428.4096 1518.1772,-417.8149 1511.6106,-426.1294 1518.2288,-428.4096\"/>\n</g>\n<!-- 28 -->\n<g id=\"node29\" class=\"node\">\n<title>28</title>\n<path fill=\"#e539c0\" stroke=\"#000000\" d=\"M1195,-298.5C1195,-298.5 1073,-298.5 1073,-298.5 1067,-298.5 1061,-292.5 1061,-286.5 1061,-286.5 1061,-242.5 1061,-242.5 1061,-236.5 1067,-230.5 1073,-230.5 1073,-230.5 1195,-230.5 1195,-230.5 1201,-230.5 1207,-236.5 1207,-242.5 1207,-242.5 1207,-286.5 1207,-286.5 1207,-292.5 1201,-298.5 1195,-298.5\"/>\n<text text-anchor=\"start\" x=\"1091.5\" y=\"-283.3\" font-family=\"Helvetica,sans-Serif\" font-size=\"14.00\" fill=\"#000000\">entropy = 0.0</text>\n<text text-anchor=\"start\" x=\"1094.5\" y=\"-268.3\" font-family=\"Helvetica,sans-Serif\" font-size=\"14.00\" fill=\"#000000\">samples = 1</text>\n<text text-anchor=\"start\" x=\"1069\" y=\"-253.3\" font-family=\"Helvetica,sans-Serif\" font-size=\"14.00\" fill=\"#000000\">value = [0, 0, 0, 0, 1]</text>\n<text text-anchor=\"start\" x=\"1105\" y=\"-238.3\" font-family=\"Helvetica,sans-Serif\" font-size=\"14.00\" fill=\"#000000\">class = 4</text>\n</g>\n<!-- 27&#45;&gt;28 -->\n<g id=\"edge28\" class=\"edge\">\n<title>27&#45;&gt;28</title>\n<path fill=\"none\" stroke=\"#000000\" d=\"M1240.6408,-341.8796C1224.0439,-329.8368 1205.9625,-316.7167 1189.4824,-304.7586\"/>\n<polygon fill=\"#000000\" stroke=\"#000000\" points=\"1191.176,-301.6632 1181.0267,-298.623 1187.0649,-307.3288 1191.176,-301.6632\"/>\n</g>\n<!-- 29 -->\n<g id=\"node30\" class=\"node\">\n<title>29</title>\n<path fill=\"#39e5c5\" stroke=\"#000000\" d=\"M1359,-298.5C1359,-298.5 1237,-298.5 1237,-298.5 1231,-298.5 1225,-292.5 1225,-286.5 1225,-286.5 1225,-242.5 1225,-242.5 1225,-236.5 1231,-230.5 1237,-230.5 1237,-230.5 1359,-230.5 1359,-230.5 1365,-230.5 1371,-236.5 1371,-242.5 1371,-242.5 1371,-286.5 1371,-286.5 1371,-292.5 1365,-298.5 1359,-298.5\"/>\n<text text-anchor=\"start\" x=\"1255.5\" y=\"-283.3\" font-family=\"Helvetica,sans-Serif\" font-size=\"14.00\" fill=\"#000000\">entropy = 0.0</text>\n<text text-anchor=\"start\" x=\"1258.5\" y=\"-268.3\" font-family=\"Helvetica,sans-Serif\" font-size=\"14.00\" fill=\"#000000\">samples = 1</text>\n<text text-anchor=\"start\" x=\"1233\" y=\"-253.3\" font-family=\"Helvetica,sans-Serif\" font-size=\"14.00\" fill=\"#000000\">value = [0, 0, 1, 0, 0]</text>\n<text text-anchor=\"start\" x=\"1269\" y=\"-238.3\" font-family=\"Helvetica,sans-Serif\" font-size=\"14.00\" fill=\"#000000\">class = 2</text>\n</g>\n<!-- 27&#45;&gt;29 -->\n<g id=\"edge29\" class=\"edge\">\n<title>27&#45;&gt;29</title>\n<path fill=\"none\" stroke=\"#000000\" d=\"M1298,-341.8796C1298,-331.2134 1298,-319.7021 1298,-308.9015\"/>\n<polygon fill=\"#000000\" stroke=\"#000000\" points=\"1301.5001,-308.8149 1298,-298.8149 1294.5001,-308.815 1301.5001,-308.8149\"/>\n</g>\n<!-- 32 -->\n<g id=\"node33\" class=\"node\">\n<title>32</title>\n<path fill=\"#ffffff\" stroke=\"#000000\" d=\"M1826,-425C1826,-425 1674,-425 1674,-425 1668,-425 1662,-419 1662,-413 1662,-413 1662,-354 1662,-354 1662,-348 1668,-342 1674,-342 1674,-342 1826,-342 1826,-342 1832,-342 1838,-348 1838,-354 1838,-354 1838,-413 1838,-413 1838,-419 1832,-425 1826,-425\"/>\n<text text-anchor=\"start\" x=\"1670\" y=\"-409.8\" font-family=\"Helvetica,sans-Serif\" font-size=\"14.00\" fill=\"#000000\">Confidence (0 &#45; 10) ≤ 6.5</text>\n<text text-anchor=\"start\" x=\"1699\" y=\"-394.8\" font-family=\"Helvetica,sans-Serif\" font-size=\"14.00\" fill=\"#000000\">entropy = 1.449</text>\n<text text-anchor=\"start\" x=\"1710.5\" y=\"-379.8\" font-family=\"Helvetica,sans-Serif\" font-size=\"14.00\" fill=\"#000000\">samples = 7</text>\n<text text-anchor=\"start\" x=\"1685\" y=\"-364.8\" font-family=\"Helvetica,sans-Serif\" font-size=\"14.00\" fill=\"#000000\">value = [0, 0, 3, 3, 1]</text>\n<text text-anchor=\"start\" x=\"1721\" y=\"-349.8\" font-family=\"Helvetica,sans-Serif\" font-size=\"14.00\" fill=\"#000000\">class = 2</text>\n</g>\n<!-- 31&#45;&gt;32 -->\n<g id=\"edge32\" class=\"edge\">\n<title>31&#45;&gt;32</title>\n<path fill=\"none\" stroke=\"#000000\" d=\"M1750,-460.8796C1750,-452.6838 1750,-443.9891 1750,-435.5013\"/>\n<polygon fill=\"#000000\" stroke=\"#000000\" points=\"1753.5001,-435.298 1750,-425.2981 1746.5001,-435.2981 1753.5001,-435.298\"/>\n</g>\n<!-- 41 -->\n<g id=\"node42\" class=\"node\">\n<title>41</title>\n<path fill=\"#9e9cf2\" stroke=\"#000000\" d=\"M2213,-425C2213,-425 2043,-425 2043,-425 2037,-425 2031,-419 2031,-413 2031,-413 2031,-354 2031,-354 2031,-348 2037,-342 2043,-342 2043,-342 2213,-342 2213,-342 2219,-342 2225,-348 2225,-354 2225,-354 2225,-413 2225,-413 2225,-419 2219,-425 2213,-425\"/>\n<text text-anchor=\"start\" x=\"2039\" y=\"-409.8\" font-family=\"Helvetica,sans-Serif\" font-size=\"14.00\" fill=\"#000000\">Daily Study Hour (0 &#45; ) ≤ 3.5</text>\n<text text-anchor=\"start\" x=\"2077\" y=\"-394.8\" font-family=\"Helvetica,sans-Serif\" font-size=\"14.00\" fill=\"#000000\">entropy = 0.918</text>\n<text text-anchor=\"start\" x=\"2088.5\" y=\"-379.8\" font-family=\"Helvetica,sans-Serif\" font-size=\"14.00\" fill=\"#000000\">samples = 6</text>\n<text text-anchor=\"start\" x=\"2063\" y=\"-364.8\" font-family=\"Helvetica,sans-Serif\" font-size=\"14.00\" fill=\"#000000\">value = [0, 0, 0, 4, 2]</text>\n<text text-anchor=\"start\" x=\"2099\" y=\"-349.8\" font-family=\"Helvetica,sans-Serif\" font-size=\"14.00\" fill=\"#000000\">class = 3</text>\n</g>\n<!-- 31&#45;&gt;41 -->\n<g id=\"edge41\" class=\"edge\">\n<title>31&#45;&gt;41</title>\n<path fill=\"none\" stroke=\"#000000\" d=\"M1877.71,-462.295C1924.3189,-447.6218 1976.5044,-431.193 2021.1138,-417.1493\"/>\n<polygon fill=\"#000000\" stroke=\"#000000\" points=\"2022.3185,-420.4395 2030.806,-414.0981 2020.2164,-413.7626 2022.3185,-420.4395\"/>\n</g>\n<!-- 33 -->\n<g id=\"node34\" class=\"node\">\n<title>33</title>\n<path fill=\"#9e9cf2\" stroke=\"#000000\" d=\"M1658.5,-306C1658.5,-306 1401.5,-306 1401.5,-306 1395.5,-306 1389.5,-300 1389.5,-294 1389.5,-294 1389.5,-235 1389.5,-235 1389.5,-229 1395.5,-223 1401.5,-223 1401.5,-223 1658.5,-223 1658.5,-223 1664.5,-223 1670.5,-229 1670.5,-235 1670.5,-235 1670.5,-294 1670.5,-294 1670.5,-300 1664.5,-306 1658.5,-306\"/>\n<text text-anchor=\"start\" x=\"1397.5\" y=\"-290.8\" font-family=\"Helvetica,sans-Serif\" font-size=\"14.00\" fill=\"#000000\">Social Media Hours (Daily Average) ≤ 3.5</text>\n<text text-anchor=\"start\" x=\"1479\" y=\"-275.8\" font-family=\"Helvetica,sans-Serif\" font-size=\"14.00\" fill=\"#000000\">entropy = 0.918</text>\n<text text-anchor=\"start\" x=\"1490.5\" y=\"-260.8\" font-family=\"Helvetica,sans-Serif\" font-size=\"14.00\" fill=\"#000000\">samples = 3</text>\n<text text-anchor=\"start\" x=\"1465\" y=\"-245.8\" font-family=\"Helvetica,sans-Serif\" font-size=\"14.00\" fill=\"#000000\">value = [0, 0, 0, 2, 1]</text>\n<text text-anchor=\"start\" x=\"1501\" y=\"-230.8\" font-family=\"Helvetica,sans-Serif\" font-size=\"14.00\" fill=\"#000000\">class = 3</text>\n</g>\n<!-- 32&#45;&gt;33 -->\n<g id=\"edge33\" class=\"edge\">\n<title>32&#45;&gt;33</title>\n<path fill=\"none\" stroke=\"#000000\" d=\"M1673.0547,-341.8796C1654.5491,-331.8697 1634.6675,-321.1156 1615.7873,-310.9031\"/>\n<polygon fill=\"#000000\" stroke=\"#000000\" points=\"1617.3628,-307.7762 1606.9019,-306.0969 1614.0324,-313.9332 1617.3628,-307.7762\"/>\n</g>\n<!-- 38 -->\n<g id=\"node39\" class=\"node\">\n<title>38</title>\n<path fill=\"#7beed8\" stroke=\"#000000\" d=\"M2009.5,-306C2009.5,-306 1700.5,-306 1700.5,-306 1694.5,-306 1688.5,-300 1688.5,-294 1688.5,-294 1688.5,-235 1688.5,-235 1688.5,-229 1694.5,-223 1700.5,-223 1700.5,-223 2009.5,-223 2009.5,-223 2015.5,-223 2021.5,-229 2021.5,-235 2021.5,-235 2021.5,-294 2021.5,-294 2021.5,-300 2015.5,-306 2009.5,-306\"/>\n<text text-anchor=\"start\" x=\"1696.5\" y=\"-290.8\" font-family=\"Helvetica,sans-Serif\" font-size=\"14.00\" fill=\"#000000\">PL/SPL Social Media Hours (Daily Average) ≤ 3.5</text>\n<text text-anchor=\"start\" x=\"1804\" y=\"-275.8\" font-family=\"Helvetica,sans-Serif\" font-size=\"14.00\" fill=\"#000000\">entropy = 0.811</text>\n<text text-anchor=\"start\" x=\"1815.5\" y=\"-260.8\" font-family=\"Helvetica,sans-Serif\" font-size=\"14.00\" fill=\"#000000\">samples = 4</text>\n<text text-anchor=\"start\" x=\"1790\" y=\"-245.8\" font-family=\"Helvetica,sans-Serif\" font-size=\"14.00\" fill=\"#000000\">value = [0, 0, 3, 1, 0]</text>\n<text text-anchor=\"start\" x=\"1826\" y=\"-230.8\" font-family=\"Helvetica,sans-Serif\" font-size=\"14.00\" fill=\"#000000\">class = 2</text>\n</g>\n<!-- 32&#45;&gt;38 -->\n<g id=\"edge38\" class=\"edge\">\n<title>32&#45;&gt;38</title>\n<path fill=\"none\" stroke=\"#000000\" d=\"M1786.7239,-341.8796C1794.6707,-332.8733 1803.149,-323.2644 1811.3326,-313.9897\"/>\n<polygon fill=\"#000000\" stroke=\"#000000\" points=\"1814.1275,-316.1122 1818.1193,-306.2981 1808.8787,-311.4808 1814.1275,-316.1122\"/>\n</g>\n<!-- 34 -->\n<g id=\"node35\" class=\"node\">\n<title>34</title>\n<path fill=\"#ffffff\" stroke=\"#000000\" d=\"M1441.5,-187C1441.5,-187 1158.5,-187 1158.5,-187 1152.5,-187 1146.5,-181 1146.5,-175 1146.5,-175 1146.5,-116 1146.5,-116 1146.5,-110 1152.5,-104 1158.5,-104 1158.5,-104 1441.5,-104 1441.5,-104 1447.5,-104 1453.5,-110 1453.5,-116 1453.5,-116 1453.5,-175 1453.5,-175 1453.5,-181 1447.5,-187 1441.5,-187\"/>\n<text text-anchor=\"start\" x=\"1154.5\" y=\"-171.8\" font-family=\"Helvetica,sans-Serif\" font-size=\"14.00\" fill=\"#000000\">PL/SPL Sleeping Hours (Daily Average) ≤ 6.5</text>\n<text text-anchor=\"start\" x=\"1257.5\" y=\"-156.8\" font-family=\"Helvetica,sans-Serif\" font-size=\"14.00\" fill=\"#000000\">entropy = 1.0</text>\n<text text-anchor=\"start\" x=\"1260.5\" y=\"-141.8\" font-family=\"Helvetica,sans-Serif\" font-size=\"14.00\" fill=\"#000000\">samples = 2</text>\n<text text-anchor=\"start\" x=\"1235\" y=\"-126.8\" font-family=\"Helvetica,sans-Serif\" font-size=\"14.00\" fill=\"#000000\">value = [0, 0, 0, 1, 1]</text>\n<text text-anchor=\"start\" x=\"1271\" y=\"-111.8\" font-family=\"Helvetica,sans-Serif\" font-size=\"14.00\" fill=\"#000000\">class = 3</text>\n</g>\n<!-- 33&#45;&gt;34 -->\n<g id=\"edge34\" class=\"edge\">\n<title>33&#45;&gt;34</title>\n<path fill=\"none\" stroke=\"#000000\" d=\"M1449.5572,-222.8796C1430.1229,-212.8244 1409.237,-202.0183 1389.4189,-191.7645\"/>\n<polygon fill=\"#000000\" stroke=\"#000000\" points=\"1390.8874,-188.5837 1380.3974,-187.0969 1387.6707,-194.8008 1390.8874,-188.5837\"/>\n</g>\n<!-- 37 -->\n<g id=\"node38\" class=\"node\">\n<title>37</title>\n<path fill=\"#3c39e5\" stroke=\"#000000\" d=\"M1605,-179.5C1605,-179.5 1483,-179.5 1483,-179.5 1477,-179.5 1471,-173.5 1471,-167.5 1471,-167.5 1471,-123.5 1471,-123.5 1471,-117.5 1477,-111.5 1483,-111.5 1483,-111.5 1605,-111.5 1605,-111.5 1611,-111.5 1617,-117.5 1617,-123.5 1617,-123.5 1617,-167.5 1617,-167.5 1617,-173.5 1611,-179.5 1605,-179.5\"/>\n<text text-anchor=\"start\" x=\"1501.5\" y=\"-164.3\" font-family=\"Helvetica,sans-Serif\" font-size=\"14.00\" fill=\"#000000\">entropy = 0.0</text>\n<text text-anchor=\"start\" x=\"1504.5\" y=\"-149.3\" font-family=\"Helvetica,sans-Serif\" font-size=\"14.00\" fill=\"#000000\">samples = 1</text>\n<text text-anchor=\"start\" x=\"1479\" y=\"-134.3\" font-family=\"Helvetica,sans-Serif\" font-size=\"14.00\" fill=\"#000000\">value = [0, 0, 0, 1, 0]</text>\n<text text-anchor=\"start\" x=\"1515\" y=\"-119.3\" font-family=\"Helvetica,sans-Serif\" font-size=\"14.00\" fill=\"#000000\">class = 3</text>\n</g>\n<!-- 33&#45;&gt;37 -->\n<g id=\"edge37\" class=\"edge\">\n<title>33&#45;&gt;37</title>\n<path fill=\"none\" stroke=\"#000000\" d=\"M1534.8965,-222.8796C1536.1514,-212.2134 1537.5056,-200.7021 1538.7763,-189.9015\"/>\n<polygon fill=\"#000000\" stroke=\"#000000\" points=\"1542.2705,-190.1554 1539.9629,-179.8149 1535.3184,-189.3375 1542.2705,-190.1554\"/>\n</g>\n<!-- 35 -->\n<g id=\"node36\" class=\"node\">\n<title>35</title>\n<path fill=\"#3c39e5\" stroke=\"#000000\" d=\"M1279,-68C1279,-68 1157,-68 1157,-68 1151,-68 1145,-62 1145,-56 1145,-56 1145,-12 1145,-12 1145,-6 1151,0 1157,0 1157,0 1279,0 1279,0 1285,0 1291,-6 1291,-12 1291,-12 1291,-56 1291,-56 1291,-62 1285,-68 1279,-68\"/>\n<text text-anchor=\"start\" x=\"1175.5\" y=\"-52.8\" font-family=\"Helvetica,sans-Serif\" font-size=\"14.00\" fill=\"#000000\">entropy = 0.0</text>\n<text text-anchor=\"start\" x=\"1178.5\" y=\"-37.8\" font-family=\"Helvetica,sans-Serif\" font-size=\"14.00\" fill=\"#000000\">samples = 1</text>\n<text text-anchor=\"start\" x=\"1153\" y=\"-22.8\" font-family=\"Helvetica,sans-Serif\" font-size=\"14.00\" fill=\"#000000\">value = [0, 0, 0, 1, 0]</text>\n<text text-anchor=\"start\" x=\"1189\" y=\"-7.8\" font-family=\"Helvetica,sans-Serif\" font-size=\"14.00\" fill=\"#000000\">class = 3</text>\n</g>\n<!-- 34&#45;&gt;35 -->\n<g id=\"edge35\" class=\"edge\">\n<title>34&#45;&gt;35</title>\n<path fill=\"none\" stroke=\"#000000\" d=\"M1269.4662,-103.9815C1262.8424,-94.9747 1255.8279,-85.4367 1249.1795,-76.3965\"/>\n<polygon fill=\"#000000\" stroke=\"#000000\" points=\"1251.9426,-74.2461 1243.1984,-68.2637 1246.3034,-78.3933 1251.9426,-74.2461\"/>\n</g>\n<!-- 36 -->\n<g id=\"node37\" class=\"node\">\n<title>36</title>\n<path fill=\"#e539c0\" stroke=\"#000000\" d=\"M1443,-68C1443,-68 1321,-68 1321,-68 1315,-68 1309,-62 1309,-56 1309,-56 1309,-12 1309,-12 1309,-6 1315,0 1321,0 1321,0 1443,0 1443,0 1449,0 1455,-6 1455,-12 1455,-12 1455,-56 1455,-56 1455,-62 1449,-68 1443,-68\"/>\n<text text-anchor=\"start\" x=\"1339.5\" y=\"-52.8\" font-family=\"Helvetica,sans-Serif\" font-size=\"14.00\" fill=\"#000000\">entropy = 0.0</text>\n<text text-anchor=\"start\" x=\"1342.5\" y=\"-37.8\" font-family=\"Helvetica,sans-Serif\" font-size=\"14.00\" fill=\"#000000\">samples = 1</text>\n<text text-anchor=\"start\" x=\"1317\" y=\"-22.8\" font-family=\"Helvetica,sans-Serif\" font-size=\"14.00\" fill=\"#000000\">value = [0, 0, 0, 0, 1]</text>\n<text text-anchor=\"start\" x=\"1353\" y=\"-7.8\" font-family=\"Helvetica,sans-Serif\" font-size=\"14.00\" fill=\"#000000\">class = 4</text>\n</g>\n<!-- 34&#45;&gt;36 -->\n<g id=\"edge36\" class=\"edge\">\n<title>34&#45;&gt;36</title>\n<path fill=\"none\" stroke=\"#000000\" d=\"M1330.5338,-103.9815C1337.1576,-94.9747 1344.1721,-85.4367 1350.8205,-76.3965\"/>\n<polygon fill=\"#000000\" stroke=\"#000000\" points=\"1353.6966,-78.3933 1356.8016,-68.2637 1348.0574,-74.2461 1353.6966,-78.3933\"/>\n</g>\n<!-- 39 -->\n<g id=\"node40\" class=\"node\">\n<title>39</title>\n<path fill=\"#39e5c5\" stroke=\"#000000\" d=\"M1822,-179.5C1822,-179.5 1700,-179.5 1700,-179.5 1694,-179.5 1688,-173.5 1688,-167.5 1688,-167.5 1688,-123.5 1688,-123.5 1688,-117.5 1694,-111.5 1700,-111.5 1700,-111.5 1822,-111.5 1822,-111.5 1828,-111.5 1834,-117.5 1834,-123.5 1834,-123.5 1834,-167.5 1834,-167.5 1834,-173.5 1828,-179.5 1822,-179.5\"/>\n<text text-anchor=\"start\" x=\"1718.5\" y=\"-164.3\" font-family=\"Helvetica,sans-Serif\" font-size=\"14.00\" fill=\"#000000\">entropy = 0.0</text>\n<text text-anchor=\"start\" x=\"1721.5\" y=\"-149.3\" font-family=\"Helvetica,sans-Serif\" font-size=\"14.00\" fill=\"#000000\">samples = 3</text>\n<text text-anchor=\"start\" x=\"1696\" y=\"-134.3\" font-family=\"Helvetica,sans-Serif\" font-size=\"14.00\" fill=\"#000000\">value = [0, 0, 3, 0, 0]</text>\n<text text-anchor=\"start\" x=\"1732\" y=\"-119.3\" font-family=\"Helvetica,sans-Serif\" font-size=\"14.00\" fill=\"#000000\">class = 2</text>\n</g>\n<!-- 38&#45;&gt;39 -->\n<g id=\"edge39\" class=\"edge\">\n<title>38&#45;&gt;39</title>\n<path fill=\"none\" stroke=\"#000000\" d=\"M1822.1234,-222.8796C1813.1768,-211.5536 1803.4776,-199.2748 1794.4971,-187.9058\"/>\n<polygon fill=\"#000000\" stroke=\"#000000\" points=\"1797.051,-185.4926 1788.1059,-179.8149 1791.558,-189.8316 1797.051,-185.4926\"/>\n</g>\n<!-- 40 -->\n<g id=\"node41\" class=\"node\">\n<title>40</title>\n<path fill=\"#3c39e5\" stroke=\"#000000\" d=\"M1986,-179.5C1986,-179.5 1864,-179.5 1864,-179.5 1858,-179.5 1852,-173.5 1852,-167.5 1852,-167.5 1852,-123.5 1852,-123.5 1852,-117.5 1858,-111.5 1864,-111.5 1864,-111.5 1986,-111.5 1986,-111.5 1992,-111.5 1998,-117.5 1998,-123.5 1998,-123.5 1998,-167.5 1998,-167.5 1998,-173.5 1992,-179.5 1986,-179.5\"/>\n<text text-anchor=\"start\" x=\"1882.5\" y=\"-164.3\" font-family=\"Helvetica,sans-Serif\" font-size=\"14.00\" fill=\"#000000\">entropy = 0.0</text>\n<text text-anchor=\"start\" x=\"1885.5\" y=\"-149.3\" font-family=\"Helvetica,sans-Serif\" font-size=\"14.00\" fill=\"#000000\">samples = 1</text>\n<text text-anchor=\"start\" x=\"1860\" y=\"-134.3\" font-family=\"Helvetica,sans-Serif\" font-size=\"14.00\" fill=\"#000000\">value = [0, 0, 0, 1, 0]</text>\n<text text-anchor=\"start\" x=\"1896\" y=\"-119.3\" font-family=\"Helvetica,sans-Serif\" font-size=\"14.00\" fill=\"#000000\">class = 3</text>\n</g>\n<!-- 38&#45;&gt;40 -->\n<g id=\"edge40\" class=\"edge\">\n<title>38&#45;&gt;40</title>\n<path fill=\"none\" stroke=\"#000000\" d=\"M1879.4826,-222.8796C1886.0156,-211.7735 1893.0875,-199.7513 1899.6652,-188.5691\"/>\n<polygon fill=\"#000000\" stroke=\"#000000\" points=\"1902.7613,-190.2089 1904.8147,-179.8149 1896.7277,-186.6597 1902.7613,-190.2089\"/>\n</g>\n<!-- 42 -->\n<g id=\"node43\" class=\"node\">\n<title>42</title>\n<path fill=\"#6d6aec\" stroke=\"#000000\" d=\"M2204,-306C2204,-306 2052,-306 2052,-306 2046,-306 2040,-300 2040,-294 2040,-294 2040,-235 2040,-235 2040,-229 2046,-223 2052,-223 2052,-223 2204,-223 2204,-223 2210,-223 2216,-229 2216,-235 2216,-235 2216,-294 2216,-294 2216,-300 2210,-306 2204,-306\"/>\n<text text-anchor=\"start\" x=\"2048\" y=\"-290.8\" font-family=\"Helvetica,sans-Serif\" font-size=\"14.00\" fill=\"#000000\">Confidence (0 &#45; 10) ≤ 7.5</text>\n<text text-anchor=\"start\" x=\"2077\" y=\"-275.8\" font-family=\"Helvetica,sans-Serif\" font-size=\"14.00\" fill=\"#000000\">entropy = 0.722</text>\n<text text-anchor=\"start\" x=\"2088.5\" y=\"-260.8\" font-family=\"Helvetica,sans-Serif\" font-size=\"14.00\" fill=\"#000000\">samples = 5</text>\n<text text-anchor=\"start\" x=\"2063\" y=\"-245.8\" font-family=\"Helvetica,sans-Serif\" font-size=\"14.00\" fill=\"#000000\">value = [0, 0, 0, 4, 1]</text>\n<text text-anchor=\"start\" x=\"2099\" y=\"-230.8\" font-family=\"Helvetica,sans-Serif\" font-size=\"14.00\" fill=\"#000000\">class = 3</text>\n</g>\n<!-- 41&#45;&gt;42 -->\n<g id=\"edge42\" class=\"edge\">\n<title>41&#45;&gt;42</title>\n<path fill=\"none\" stroke=\"#000000\" d=\"M2128,-341.8796C2128,-333.6838 2128,-324.9891 2128,-316.5013\"/>\n<polygon fill=\"#000000\" stroke=\"#000000\" points=\"2131.5001,-316.298 2128,-306.2981 2124.5001,-316.2981 2131.5001,-316.298\"/>\n</g>\n<!-- 47 -->\n<g id=\"node48\" class=\"node\">\n<title>47</title>\n<path fill=\"#e539c0\" stroke=\"#000000\" d=\"M2368,-298.5C2368,-298.5 2246,-298.5 2246,-298.5 2240,-298.5 2234,-292.5 2234,-286.5 2234,-286.5 2234,-242.5 2234,-242.5 2234,-236.5 2240,-230.5 2246,-230.5 2246,-230.5 2368,-230.5 2368,-230.5 2374,-230.5 2380,-236.5 2380,-242.5 2380,-242.5 2380,-286.5 2380,-286.5 2380,-292.5 2374,-298.5 2368,-298.5\"/>\n<text text-anchor=\"start\" x=\"2264.5\" y=\"-283.3\" font-family=\"Helvetica,sans-Serif\" font-size=\"14.00\" fill=\"#000000\">entropy = 0.0</text>\n<text text-anchor=\"start\" x=\"2267.5\" y=\"-268.3\" font-family=\"Helvetica,sans-Serif\" font-size=\"14.00\" fill=\"#000000\">samples = 1</text>\n<text text-anchor=\"start\" x=\"2242\" y=\"-253.3\" font-family=\"Helvetica,sans-Serif\" font-size=\"14.00\" fill=\"#000000\">value = [0, 0, 0, 0, 1]</text>\n<text text-anchor=\"start\" x=\"2278\" y=\"-238.3\" font-family=\"Helvetica,sans-Serif\" font-size=\"14.00\" fill=\"#000000\">class = 4</text>\n</g>\n<!-- 41&#45;&gt;47 -->\n<g id=\"edge47\" class=\"edge\">\n<title>41&#45;&gt;47</title>\n<path fill=\"none\" stroke=\"#000000\" d=\"M2190.6055,-341.8796C2208.8865,-329.7263 2228.8178,-316.4759 2246.9376,-304.4297\"/>\n<polygon fill=\"#000000\" stroke=\"#000000\" points=\"2249.2821,-307.074 2255.6721,-298.623 2245.4067,-301.2447 2249.2821,-307.074\"/>\n</g>\n<!-- 43 -->\n<g id=\"node44\" class=\"node\">\n<title>43</title>\n<path fill=\"#3c39e5\" stroke=\"#000000\" d=\"M2176,-179.5C2176,-179.5 2054,-179.5 2054,-179.5 2048,-179.5 2042,-173.5 2042,-167.5 2042,-167.5 2042,-123.5 2042,-123.5 2042,-117.5 2048,-111.5 2054,-111.5 2054,-111.5 2176,-111.5 2176,-111.5 2182,-111.5 2188,-117.5 2188,-123.5 2188,-123.5 2188,-167.5 2188,-167.5 2188,-173.5 2182,-179.5 2176,-179.5\"/>\n<text text-anchor=\"start\" x=\"2072.5\" y=\"-164.3\" font-family=\"Helvetica,sans-Serif\" font-size=\"14.00\" fill=\"#000000\">entropy = 0.0</text>\n<text text-anchor=\"start\" x=\"2075.5\" y=\"-149.3\" font-family=\"Helvetica,sans-Serif\" font-size=\"14.00\" fill=\"#000000\">samples = 3</text>\n<text text-anchor=\"start\" x=\"2050\" y=\"-134.3\" font-family=\"Helvetica,sans-Serif\" font-size=\"14.00\" fill=\"#000000\">value = [0, 0, 0, 3, 0]</text>\n<text text-anchor=\"start\" x=\"2086\" y=\"-119.3\" font-family=\"Helvetica,sans-Serif\" font-size=\"14.00\" fill=\"#000000\">class = 3</text>\n</g>\n<!-- 42&#45;&gt;43 -->\n<g id=\"edge43\" class=\"edge\">\n<title>42&#45;&gt;43</title>\n<path fill=\"none\" stroke=\"#000000\" d=\"M2123.4532,-222.8796C2122.288,-212.2134 2121.0305,-200.7021 2119.8506,-189.9015\"/>\n<polygon fill=\"#000000\" stroke=\"#000000\" points=\"2123.3141,-189.3757 2118.7487,-179.8149 2116.3555,-190.1359 2123.3141,-189.3757\"/>\n</g>\n<!-- 44 -->\n<g id=\"node45\" class=\"node\">\n<title>44</title>\n<path fill=\"#ffffff\" stroke=\"#000000\" d=\"M2465.5,-187C2465.5,-187 2218.5,-187 2218.5,-187 2212.5,-187 2206.5,-181 2206.5,-175 2206.5,-175 2206.5,-116 2206.5,-116 2206.5,-110 2212.5,-104 2218.5,-104 2218.5,-104 2465.5,-104 2465.5,-104 2471.5,-104 2477.5,-110 2477.5,-116 2477.5,-116 2477.5,-175 2477.5,-175 2477.5,-181 2471.5,-187 2465.5,-187\"/>\n<text text-anchor=\"start\" x=\"2214.5\" y=\"-171.8\" font-family=\"Helvetica,sans-Serif\" font-size=\"14.00\" fill=\"#000000\">PL/SPL Study Hours (Daily) (0 &#45; ) ≤ 11.5</text>\n<text text-anchor=\"start\" x=\"2299.5\" y=\"-156.8\" font-family=\"Helvetica,sans-Serif\" font-size=\"14.00\" fill=\"#000000\">entropy = 1.0</text>\n<text text-anchor=\"start\" x=\"2302.5\" y=\"-141.8\" font-family=\"Helvetica,sans-Serif\" font-size=\"14.00\" fill=\"#000000\">samples = 2</text>\n<text text-anchor=\"start\" x=\"2277\" y=\"-126.8\" font-family=\"Helvetica,sans-Serif\" font-size=\"14.00\" fill=\"#000000\">value = [0, 0, 0, 1, 1]</text>\n<text text-anchor=\"start\" x=\"2313\" y=\"-111.8\" font-family=\"Helvetica,sans-Serif\" font-size=\"14.00\" fill=\"#000000\">class = 3</text>\n</g>\n<!-- 42&#45;&gt;44 -->\n<g id=\"edge44\" class=\"edge\">\n<title>42&#45;&gt;44</title>\n<path fill=\"none\" stroke=\"#000000\" d=\"M2202.8468,-222.8796C2220.7663,-212.915 2240.012,-202.2129 2258.303,-192.0418\"/>\n<polygon fill=\"#000000\" stroke=\"#000000\" points=\"2260.1568,-195.0158 2267.1954,-187.0969 2256.7548,-188.898 2260.1568,-195.0158\"/>\n</g>\n<!-- 45 -->\n<g id=\"node46\" class=\"node\">\n<title>45</title>\n<path fill=\"#e539c0\" stroke=\"#000000\" d=\"M2321,-68C2321,-68 2199,-68 2199,-68 2193,-68 2187,-62 2187,-56 2187,-56 2187,-12 2187,-12 2187,-6 2193,0 2199,0 2199,0 2321,0 2321,0 2327,0 2333,-6 2333,-12 2333,-12 2333,-56 2333,-56 2333,-62 2327,-68 2321,-68\"/>\n<text text-anchor=\"start\" x=\"2217.5\" y=\"-52.8\" font-family=\"Helvetica,sans-Serif\" font-size=\"14.00\" fill=\"#000000\">entropy = 0.0</text>\n<text text-anchor=\"start\" x=\"2220.5\" y=\"-37.8\" font-family=\"Helvetica,sans-Serif\" font-size=\"14.00\" fill=\"#000000\">samples = 1</text>\n<text text-anchor=\"start\" x=\"2195\" y=\"-22.8\" font-family=\"Helvetica,sans-Serif\" font-size=\"14.00\" fill=\"#000000\">value = [0, 0, 0, 0, 1]</text>\n<text text-anchor=\"start\" x=\"2231\" y=\"-7.8\" font-family=\"Helvetica,sans-Serif\" font-size=\"14.00\" fill=\"#000000\">class = 4</text>\n</g>\n<!-- 44&#45;&gt;45 -->\n<g id=\"edge45\" class=\"edge\">\n<title>44&#45;&gt;45</title>\n<path fill=\"none\" stroke=\"#000000\" d=\"M2311.4662,-103.9815C2304.8424,-94.9747 2297.8279,-85.4367 2291.1795,-76.3965\"/>\n<polygon fill=\"#000000\" stroke=\"#000000\" points=\"2293.9426,-74.2461 2285.1984,-68.2637 2288.3034,-78.3933 2293.9426,-74.2461\"/>\n</g>\n<!-- 46 -->\n<g id=\"node47\" class=\"node\">\n<title>46</title>\n<path fill=\"#3c39e5\" stroke=\"#000000\" d=\"M2485,-68C2485,-68 2363,-68 2363,-68 2357,-68 2351,-62 2351,-56 2351,-56 2351,-12 2351,-12 2351,-6 2357,0 2363,0 2363,0 2485,0 2485,0 2491,0 2497,-6 2497,-12 2497,-12 2497,-56 2497,-56 2497,-62 2491,-68 2485,-68\"/>\n<text text-anchor=\"start\" x=\"2381.5\" y=\"-52.8\" font-family=\"Helvetica,sans-Serif\" font-size=\"14.00\" fill=\"#000000\">entropy = 0.0</text>\n<text text-anchor=\"start\" x=\"2384.5\" y=\"-37.8\" font-family=\"Helvetica,sans-Serif\" font-size=\"14.00\" fill=\"#000000\">samples = 1</text>\n<text text-anchor=\"start\" x=\"2359\" y=\"-22.8\" font-family=\"Helvetica,sans-Serif\" font-size=\"14.00\" fill=\"#000000\">value = [0, 0, 0, 1, 0]</text>\n<text text-anchor=\"start\" x=\"2395\" y=\"-7.8\" font-family=\"Helvetica,sans-Serif\" font-size=\"14.00\" fill=\"#000000\">class = 3</text>\n</g>\n<!-- 44&#45;&gt;46 -->\n<g id=\"edge46\" class=\"edge\">\n<title>44&#45;&gt;46</title>\n<path fill=\"none\" stroke=\"#000000\" d=\"M2372.5338,-103.9815C2379.1576,-94.9747 2386.1721,-85.4367 2392.8205,-76.3965\"/>\n<polygon fill=\"#000000\" stroke=\"#000000\" points=\"2395.6966,-78.3933 2398.8016,-68.2637 2390.0574,-74.2461 2395.6966,-78.3933\"/>\n</g>\n<!-- 49 -->\n<g id=\"node50\" class=\"node\">\n<title>49</title>\n<path fill=\"#f5b0e6\" stroke=\"#000000\" d=\"M2167.5,-782C2167.5,-782 1928.5,-782 1928.5,-782 1922.5,-782 1916.5,-776 1916.5,-770 1916.5,-770 1916.5,-711 1916.5,-711 1916.5,-705 1922.5,-699 1928.5,-699 1928.5,-699 2167.5,-699 2167.5,-699 2173.5,-699 2179.5,-705 2179.5,-711 2179.5,-711 2179.5,-770 2179.5,-770 2179.5,-776 2173.5,-782 2167.5,-782\"/>\n<text text-anchor=\"start\" x=\"1924.5\" y=\"-766.8\" font-family=\"Helvetica,sans-Serif\" font-size=\"14.00\" fill=\"#000000\">PL/SPL Study Hours (Daily) (0 &#45; ) ≤ 8.5</text>\n<text text-anchor=\"start\" x=\"1997\" y=\"-751.8\" font-family=\"Helvetica,sans-Serif\" font-size=\"14.00\" fill=\"#000000\">entropy = 0.954</text>\n<text text-anchor=\"start\" x=\"2008.5\" y=\"-736.8\" font-family=\"Helvetica,sans-Serif\" font-size=\"14.00\" fill=\"#000000\">samples = 8</text>\n<text text-anchor=\"start\" x=\"1983\" y=\"-721.8\" font-family=\"Helvetica,sans-Serif\" font-size=\"14.00\" fill=\"#000000\">value = [0, 0, 3, 0, 5]</text>\n<text text-anchor=\"start\" x=\"2019\" y=\"-706.8\" font-family=\"Helvetica,sans-Serif\" font-size=\"14.00\" fill=\"#000000\">class = 4</text>\n</g>\n<!-- 48&#45;&gt;49 -->\n<g id=\"edge49\" class=\"edge\">\n<title>48&#45;&gt;49</title>\n<path fill=\"none\" stroke=\"#000000\" d=\"M2048,-817.8796C2048,-809.6838 2048,-800.9891 2048,-792.5013\"/>\n<polygon fill=\"#000000\" stroke=\"#000000\" points=\"2051.5001,-792.298 2048,-782.2981 2044.5001,-792.2981 2051.5001,-792.298\"/>\n</g>\n<!-- 54 -->\n<g id=\"node55\" class=\"node\">\n<title>54</title>\n<path fill=\"#e84ec7\" stroke=\"#000000\" d=\"M2450,-782C2450,-782 2280,-782 2280,-782 2274,-782 2268,-776 2268,-770 2268,-770 2268,-711 2268,-711 2268,-705 2274,-699 2280,-699 2280,-699 2450,-699 2450,-699 2456,-699 2462,-705 2462,-711 2462,-711 2462,-770 2462,-770 2462,-776 2456,-782 2450,-782\"/>\n<text text-anchor=\"start\" x=\"2276\" y=\"-766.8\" font-family=\"Helvetica,sans-Serif\" font-size=\"14.00\" fill=\"#000000\">Daily Study Hour (0 &#45; ) ≤ 5.5</text>\n<text text-anchor=\"start\" x=\"2314\" y=\"-751.8\" font-family=\"Helvetica,sans-Serif\" font-size=\"14.00\" fill=\"#000000\">entropy = 0.454</text>\n<text text-anchor=\"start\" x=\"2321\" y=\"-736.8\" font-family=\"Helvetica,sans-Serif\" font-size=\"14.00\" fill=\"#000000\">samples = 21</text>\n<text text-anchor=\"start\" x=\"2295.5\" y=\"-721.8\" font-family=\"Helvetica,sans-Serif\" font-size=\"14.00\" fill=\"#000000\">value = [0, 0, 0, 2, 19]</text>\n<text text-anchor=\"start\" x=\"2336\" y=\"-706.8\" font-family=\"Helvetica,sans-Serif\" font-size=\"14.00\" fill=\"#000000\">class = 4</text>\n</g>\n<!-- 48&#45;&gt;54 -->\n<g id=\"edge54\" class=\"edge\">\n<title>48&#45;&gt;54</title>\n<path fill=\"none\" stroke=\"#000000\" d=\"M2158.8712,-817.8796C2191.209,-805.7402 2226.4627,-792.5061 2258.5226,-780.471\"/>\n<polygon fill=\"#000000\" stroke=\"#000000\" points=\"2259.7855,-783.7355 2267.9175,-776.9442 2257.3253,-777.182 2259.7855,-783.7355\"/>\n</g>\n<!-- 50 -->\n<g id=\"node51\" class=\"node\">\n<title>50</title>\n<path fill=\"#ea61cd\" stroke=\"#000000\" d=\"M2050,-663C2050,-663 1898,-663 1898,-663 1892,-663 1886,-657 1886,-651 1886,-651 1886,-592 1886,-592 1886,-586 1892,-580 1898,-580 1898,-580 2050,-580 2050,-580 2056,-580 2062,-586 2062,-592 2062,-592 2062,-651 2062,-651 2062,-657 2056,-663 2050,-663\"/>\n<text text-anchor=\"start\" x=\"1894\" y=\"-647.8\" font-family=\"Helvetica,sans-Serif\" font-size=\"14.00\" fill=\"#000000\">Confidence (0 &#45; 10) ≤ 3.5</text>\n<text text-anchor=\"start\" x=\"1927\" y=\"-632.8\" font-family=\"Helvetica,sans-Serif\" font-size=\"14.00\" fill=\"#000000\">entropy = 0.65</text>\n<text text-anchor=\"start\" x=\"1934.5\" y=\"-617.8\" font-family=\"Helvetica,sans-Serif\" font-size=\"14.00\" fill=\"#000000\">samples = 6</text>\n<text text-anchor=\"start\" x=\"1909\" y=\"-602.8\" font-family=\"Helvetica,sans-Serif\" font-size=\"14.00\" fill=\"#000000\">value = [0, 0, 1, 0, 5]</text>\n<text text-anchor=\"start\" x=\"1945\" y=\"-587.8\" font-family=\"Helvetica,sans-Serif\" font-size=\"14.00\" fill=\"#000000\">class = 4</text>\n</g>\n<!-- 49&#45;&gt;50 -->\n<g id=\"edge50\" class=\"edge\">\n<title>49&#45;&gt;50</title>\n<path fill=\"none\" stroke=\"#000000\" d=\"M2022.1184,-698.8796C2016.6858,-690.1434 2010.9008,-680.8404 2005.2947,-671.8253\"/>\n<polygon fill=\"#000000\" stroke=\"#000000\" points=\"2008.2451,-669.9418 1999.9921,-663.2981 2002.3007,-673.6383 2008.2451,-669.9418\"/>\n</g>\n<!-- 53 -->\n<g id=\"node54\" class=\"node\">\n<title>53</title>\n<path fill=\"#39e5c5\" stroke=\"#000000\" d=\"M2214,-655.5C2214,-655.5 2092,-655.5 2092,-655.5 2086,-655.5 2080,-649.5 2080,-643.5 2080,-643.5 2080,-599.5 2080,-599.5 2080,-593.5 2086,-587.5 2092,-587.5 2092,-587.5 2214,-587.5 2214,-587.5 2220,-587.5 2226,-593.5 2226,-599.5 2226,-599.5 2226,-643.5 2226,-643.5 2226,-649.5 2220,-655.5 2214,-655.5\"/>\n<text text-anchor=\"start\" x=\"2110.5\" y=\"-640.3\" font-family=\"Helvetica,sans-Serif\" font-size=\"14.00\" fill=\"#000000\">entropy = 0.0</text>\n<text text-anchor=\"start\" x=\"2113.5\" y=\"-625.3\" font-family=\"Helvetica,sans-Serif\" font-size=\"14.00\" fill=\"#000000\">samples = 2</text>\n<text text-anchor=\"start\" x=\"2088\" y=\"-610.3\" font-family=\"Helvetica,sans-Serif\" font-size=\"14.00\" fill=\"#000000\">value = [0, 0, 2, 0, 0]</text>\n<text text-anchor=\"start\" x=\"2124\" y=\"-595.3\" font-family=\"Helvetica,sans-Serif\" font-size=\"14.00\" fill=\"#000000\">class = 2</text>\n</g>\n<!-- 49&#45;&gt;53 -->\n<g id=\"edge53\" class=\"edge\">\n<title>49&#45;&gt;53</title>\n<path fill=\"none\" stroke=\"#000000\" d=\"M2084.7239,-698.8796C2094.8144,-687.4436 2105.7621,-675.0363 2115.875,-663.575\"/>\n<polygon fill=\"#000000\" stroke=\"#000000\" points=\"2118.7303,-665.629 2122.7221,-655.8149 2113.4814,-660.9977 2118.7303,-665.629\"/>\n</g>\n<!-- 51 -->\n<g id=\"node52\" class=\"node\">\n<title>51</title>\n<path fill=\"#39e5c5\" stroke=\"#000000\" d=\"M2030,-536.5C2030,-536.5 1908,-536.5 1908,-536.5 1902,-536.5 1896,-530.5 1896,-524.5 1896,-524.5 1896,-480.5 1896,-480.5 1896,-474.5 1902,-468.5 1908,-468.5 1908,-468.5 2030,-468.5 2030,-468.5 2036,-468.5 2042,-474.5 2042,-480.5 2042,-480.5 2042,-524.5 2042,-524.5 2042,-530.5 2036,-536.5 2030,-536.5\"/>\n<text text-anchor=\"start\" x=\"1926.5\" y=\"-521.3\" font-family=\"Helvetica,sans-Serif\" font-size=\"14.00\" fill=\"#000000\">entropy = 0.0</text>\n<text text-anchor=\"start\" x=\"1929.5\" y=\"-506.3\" font-family=\"Helvetica,sans-Serif\" font-size=\"14.00\" fill=\"#000000\">samples = 1</text>\n<text text-anchor=\"start\" x=\"1904\" y=\"-491.3\" font-family=\"Helvetica,sans-Serif\" font-size=\"14.00\" fill=\"#000000\">value = [0, 0, 1, 0, 0]</text>\n<text text-anchor=\"start\" x=\"1940\" y=\"-476.3\" font-family=\"Helvetica,sans-Serif\" font-size=\"14.00\" fill=\"#000000\">class = 2</text>\n</g>\n<!-- 50&#45;&gt;51 -->\n<g id=\"edge51\" class=\"edge\">\n<title>50&#45;&gt;51</title>\n<path fill=\"none\" stroke=\"#000000\" d=\"M1972.2512,-579.8796C1971.8031,-569.2134 1971.3194,-557.7021 1970.8656,-546.9015\"/>\n<polygon fill=\"#000000\" stroke=\"#000000\" points=\"1974.3586,-546.6592 1970.4418,-536.8149 1967.3648,-546.9531 1974.3586,-546.6592\"/>\n</g>\n<!-- 52 -->\n<g id=\"node53\" class=\"node\">\n<title>52</title>\n<path fill=\"#e539c0\" stroke=\"#000000\" d=\"M2194,-536.5C2194,-536.5 2072,-536.5 2072,-536.5 2066,-536.5 2060,-530.5 2060,-524.5 2060,-524.5 2060,-480.5 2060,-480.5 2060,-474.5 2066,-468.5 2072,-468.5 2072,-468.5 2194,-468.5 2194,-468.5 2200,-468.5 2206,-474.5 2206,-480.5 2206,-480.5 2206,-524.5 2206,-524.5 2206,-530.5 2200,-536.5 2194,-536.5\"/>\n<text text-anchor=\"start\" x=\"2090.5\" y=\"-521.3\" font-family=\"Helvetica,sans-Serif\" font-size=\"14.00\" fill=\"#000000\">entropy = 0.0</text>\n<text text-anchor=\"start\" x=\"2093.5\" y=\"-506.3\" font-family=\"Helvetica,sans-Serif\" font-size=\"14.00\" fill=\"#000000\">samples = 5</text>\n<text text-anchor=\"start\" x=\"2068\" y=\"-491.3\" font-family=\"Helvetica,sans-Serif\" font-size=\"14.00\" fill=\"#000000\">value = [0, 0, 0, 0, 5]</text>\n<text text-anchor=\"start\" x=\"2104\" y=\"-476.3\" font-family=\"Helvetica,sans-Serif\" font-size=\"14.00\" fill=\"#000000\">class = 4</text>\n</g>\n<!-- 50&#45;&gt;52 -->\n<g id=\"edge52\" class=\"edge\">\n<title>50&#45;&gt;52</title>\n<path fill=\"none\" stroke=\"#000000\" d=\"M2029.6105,-579.8796C2045.7013,-567.8368 2063.2315,-554.7167 2079.2091,-542.7586\"/>\n<polygon fill=\"#000000\" stroke=\"#000000\" points=\"2081.4982,-545.4171 2087.407,-536.623 2077.3038,-539.8129 2081.4982,-545.4171\"/>\n</g>\n<!-- 55 -->\n<g id=\"node56\" class=\"node\">\n<title>55</title>\n<path fill=\"#e643c3\" stroke=\"#000000\" d=\"M2468.5,-663C2468.5,-663 2261.5,-663 2261.5,-663 2255.5,-663 2249.5,-657 2249.5,-651 2249.5,-651 2249.5,-592 2249.5,-592 2249.5,-586 2255.5,-580 2261.5,-580 2261.5,-580 2468.5,-580 2468.5,-580 2474.5,-580 2480.5,-586 2480.5,-592 2480.5,-592 2480.5,-651 2480.5,-651 2480.5,-657 2474.5,-663 2468.5,-663\"/>\n<text text-anchor=\"start\" x=\"2257.5\" y=\"-647.8\" font-family=\"Helvetica,sans-Serif\" font-size=\"14.00\" fill=\"#000000\">Average CT Marks (0 &#45; 20) ≤ 14.5</text>\n<text text-anchor=\"start\" x=\"2314\" y=\"-632.8\" font-family=\"Helvetica,sans-Serif\" font-size=\"14.00\" fill=\"#000000\">entropy = 0.286</text>\n<text text-anchor=\"start\" x=\"2321\" y=\"-617.8\" font-family=\"Helvetica,sans-Serif\" font-size=\"14.00\" fill=\"#000000\">samples = 20</text>\n<text text-anchor=\"start\" x=\"2295.5\" y=\"-602.8\" font-family=\"Helvetica,sans-Serif\" font-size=\"14.00\" fill=\"#000000\">value = [0, 0, 0, 1, 19]</text>\n<text text-anchor=\"start\" x=\"2336\" y=\"-587.8\" font-family=\"Helvetica,sans-Serif\" font-size=\"14.00\" fill=\"#000000\">class = 4</text>\n</g>\n<!-- 54&#45;&gt;55 -->\n<g id=\"edge55\" class=\"edge\">\n<title>54&#45;&gt;55</title>\n<path fill=\"none\" stroke=\"#000000\" d=\"M2365,-698.8796C2365,-690.6838 2365,-681.9891 2365,-673.5013\"/>\n<polygon fill=\"#000000\" stroke=\"#000000\" points=\"2368.5001,-673.298 2365,-663.2981 2361.5001,-673.2981 2368.5001,-673.298\"/>\n</g>\n<!-- 60 -->\n<g id=\"node61\" class=\"node\">\n<title>60</title>\n<path fill=\"#3c39e5\" stroke=\"#000000\" d=\"M2633,-655.5C2633,-655.5 2511,-655.5 2511,-655.5 2505,-655.5 2499,-649.5 2499,-643.5 2499,-643.5 2499,-599.5 2499,-599.5 2499,-593.5 2505,-587.5 2511,-587.5 2511,-587.5 2633,-587.5 2633,-587.5 2639,-587.5 2645,-593.5 2645,-599.5 2645,-599.5 2645,-643.5 2645,-643.5 2645,-649.5 2639,-655.5 2633,-655.5\"/>\n<text text-anchor=\"start\" x=\"2529.5\" y=\"-640.3\" font-family=\"Helvetica,sans-Serif\" font-size=\"14.00\" fill=\"#000000\">entropy = 0.0</text>\n<text text-anchor=\"start\" x=\"2532.5\" y=\"-625.3\" font-family=\"Helvetica,sans-Serif\" font-size=\"14.00\" fill=\"#000000\">samples = 1</text>\n<text text-anchor=\"start\" x=\"2507\" y=\"-610.3\" font-family=\"Helvetica,sans-Serif\" font-size=\"14.00\" fill=\"#000000\">value = [0, 0, 0, 1, 0]</text>\n<text text-anchor=\"start\" x=\"2543\" y=\"-595.3\" font-family=\"Helvetica,sans-Serif\" font-size=\"14.00\" fill=\"#000000\">class = 3</text>\n</g>\n<!-- 54&#45;&gt;60 -->\n<g id=\"edge60\" class=\"edge\">\n<title>54&#45;&gt;60</title>\n<path fill=\"none\" stroke=\"#000000\" d=\"M2437.3986,-698.8796C2459.0196,-686.4501 2482.6369,-672.873 2503.9678,-660.6103\"/>\n<polygon fill=\"#000000\" stroke=\"#000000\" points=\"2505.718,-663.6413 2512.6431,-655.623 2502.2292,-657.5727 2505.718,-663.6413\"/>\n</g>\n<!-- 56 -->\n<g id=\"node57\" class=\"node\">\n<title>56</title>\n<path fill=\"#f29ce0\" stroke=\"#000000\" d=\"M2493.5,-544C2493.5,-544 2236.5,-544 2236.5,-544 2230.5,-544 2224.5,-538 2224.5,-532 2224.5,-532 2224.5,-473 2224.5,-473 2224.5,-467 2230.5,-461 2236.5,-461 2236.5,-461 2493.5,-461 2493.5,-461 2499.5,-461 2505.5,-467 2505.5,-473 2505.5,-473 2505.5,-532 2505.5,-532 2505.5,-538 2499.5,-544 2493.5,-544\"/>\n<text text-anchor=\"start\" x=\"2232.5\" y=\"-528.8\" font-family=\"Helvetica,sans-Serif\" font-size=\"14.00\" fill=\"#000000\">Social Media Hours (Daily Average) ≤ 2.5</text>\n<text text-anchor=\"start\" x=\"2314\" y=\"-513.8\" font-family=\"Helvetica,sans-Serif\" font-size=\"14.00\" fill=\"#000000\">entropy = 0.918</text>\n<text text-anchor=\"start\" x=\"2325.5\" y=\"-498.8\" font-family=\"Helvetica,sans-Serif\" font-size=\"14.00\" fill=\"#000000\">samples = 3</text>\n<text text-anchor=\"start\" x=\"2300\" y=\"-483.8\" font-family=\"Helvetica,sans-Serif\" font-size=\"14.00\" fill=\"#000000\">value = [0, 0, 0, 1, 2]</text>\n<text text-anchor=\"start\" x=\"2336\" y=\"-468.8\" font-family=\"Helvetica,sans-Serif\" font-size=\"14.00\" fill=\"#000000\">class = 4</text>\n</g>\n<!-- 55&#45;&gt;56 -->\n<g id=\"edge56\" class=\"edge\">\n<title>55&#45;&gt;56</title>\n<path fill=\"none\" stroke=\"#000000\" d=\"M2365,-579.8796C2365,-571.6838 2365,-562.9891 2365,-554.5013\"/>\n<polygon fill=\"#000000\" stroke=\"#000000\" points=\"2368.5001,-554.298 2365,-544.2981 2361.5001,-554.2981 2368.5001,-554.298\"/>\n</g>\n<!-- 59 -->\n<g id=\"node60\" class=\"node\">\n<title>59</title>\n<path fill=\"#e539c0\" stroke=\"#000000\" d=\"M2666.5,-536.5C2666.5,-536.5 2535.5,-536.5 2535.5,-536.5 2529.5,-536.5 2523.5,-530.5 2523.5,-524.5 2523.5,-524.5 2523.5,-480.5 2523.5,-480.5 2523.5,-474.5 2529.5,-468.5 2535.5,-468.5 2535.5,-468.5 2666.5,-468.5 2666.5,-468.5 2672.5,-468.5 2678.5,-474.5 2678.5,-480.5 2678.5,-480.5 2678.5,-524.5 2678.5,-524.5 2678.5,-530.5 2672.5,-536.5 2666.5,-536.5\"/>\n<text text-anchor=\"start\" x=\"2558.5\" y=\"-521.3\" font-family=\"Helvetica,sans-Serif\" font-size=\"14.00\" fill=\"#000000\">entropy = 0.0</text>\n<text text-anchor=\"start\" x=\"2557\" y=\"-506.3\" font-family=\"Helvetica,sans-Serif\" font-size=\"14.00\" fill=\"#000000\">samples = 17</text>\n<text text-anchor=\"start\" x=\"2531.5\" y=\"-491.3\" font-family=\"Helvetica,sans-Serif\" font-size=\"14.00\" fill=\"#000000\">value = [0, 0, 0, 0, 17]</text>\n<text text-anchor=\"start\" x=\"2572\" y=\"-476.3\" font-family=\"Helvetica,sans-Serif\" font-size=\"14.00\" fill=\"#000000\">class = 4</text>\n</g>\n<!-- 55&#45;&gt;59 -->\n<g id=\"edge59\" class=\"edge\">\n<title>55&#45;&gt;59</title>\n<path fill=\"none\" stroke=\"#000000\" d=\"M2447.5413,-579.8796C2472.4106,-567.3396 2499.5963,-553.6315 2524.0846,-541.2836\"/>\n<polygon fill=\"#000000\" stroke=\"#000000\" points=\"2525.9742,-544.2507 2533.3274,-536.623 2522.8225,-538.0003 2525.9742,-544.2507\"/>\n</g>\n<!-- 57 -->\n<g id=\"node58\" class=\"node\">\n<title>57</title>\n<path fill=\"#e539c0\" stroke=\"#000000\" d=\"M2401,-417.5C2401,-417.5 2279,-417.5 2279,-417.5 2273,-417.5 2267,-411.5 2267,-405.5 2267,-405.5 2267,-361.5 2267,-361.5 2267,-355.5 2273,-349.5 2279,-349.5 2279,-349.5 2401,-349.5 2401,-349.5 2407,-349.5 2413,-355.5 2413,-361.5 2413,-361.5 2413,-405.5 2413,-405.5 2413,-411.5 2407,-417.5 2401,-417.5\"/>\n<text text-anchor=\"start\" x=\"2297.5\" y=\"-402.3\" font-family=\"Helvetica,sans-Serif\" font-size=\"14.00\" fill=\"#000000\">entropy = 0.0</text>\n<text text-anchor=\"start\" x=\"2300.5\" y=\"-387.3\" font-family=\"Helvetica,sans-Serif\" font-size=\"14.00\" fill=\"#000000\">samples = 2</text>\n<text text-anchor=\"start\" x=\"2275\" y=\"-372.3\" font-family=\"Helvetica,sans-Serif\" font-size=\"14.00\" fill=\"#000000\">value = [0, 0, 0, 0, 2]</text>\n<text text-anchor=\"start\" x=\"2311\" y=\"-357.3\" font-family=\"Helvetica,sans-Serif\" font-size=\"14.00\" fill=\"#000000\">class = 4</text>\n</g>\n<!-- 56&#45;&gt;57 -->\n<g id=\"edge57\" class=\"edge\">\n<title>56&#45;&gt;57</title>\n<path fill=\"none\" stroke=\"#000000\" d=\"M2356.2562,-460.8796C2354.0154,-450.2134 2351.5971,-438.7021 2349.3281,-427.9015\"/>\n<polygon fill=\"#000000\" stroke=\"#000000\" points=\"2352.6903,-426.8817 2347.209,-417.8149 2345.8398,-428.3209 2352.6903,-426.8817\"/>\n</g>\n<!-- 58 -->\n<g id=\"node59\" class=\"node\">\n<title>58</title>\n<path fill=\"#3c39e5\" stroke=\"#000000\" d=\"M2565,-417.5C2565,-417.5 2443,-417.5 2443,-417.5 2437,-417.5 2431,-411.5 2431,-405.5 2431,-405.5 2431,-361.5 2431,-361.5 2431,-355.5 2437,-349.5 2443,-349.5 2443,-349.5 2565,-349.5 2565,-349.5 2571,-349.5 2577,-355.5 2577,-361.5 2577,-361.5 2577,-405.5 2577,-405.5 2577,-411.5 2571,-417.5 2565,-417.5\"/>\n<text text-anchor=\"start\" x=\"2461.5\" y=\"-402.3\" font-family=\"Helvetica,sans-Serif\" font-size=\"14.00\" fill=\"#000000\">entropy = 0.0</text>\n<text text-anchor=\"start\" x=\"2464.5\" y=\"-387.3\" font-family=\"Helvetica,sans-Serif\" font-size=\"14.00\" fill=\"#000000\">samples = 1</text>\n<text text-anchor=\"start\" x=\"2439\" y=\"-372.3\" font-family=\"Helvetica,sans-Serif\" font-size=\"14.00\" fill=\"#000000\">value = [0, 0, 0, 1, 0]</text>\n<text text-anchor=\"start\" x=\"2475\" y=\"-357.3\" font-family=\"Helvetica,sans-Serif\" font-size=\"14.00\" fill=\"#000000\">class = 3</text>\n</g>\n<!-- 56&#45;&gt;58 -->\n<g id=\"edge58\" class=\"edge\">\n<title>56&#45;&gt;58</title>\n<path fill=\"none\" stroke=\"#000000\" d=\"M2413.6155,-460.8796C2427.3587,-449.1138 2442.3031,-436.3197 2456.0093,-424.5855\"/>\n<polygon fill=\"#000000\" stroke=\"#000000\" points=\"2458.5976,-426.9771 2463.9178,-417.8149 2454.0452,-421.6596 2458.5976,-426.9771\"/>\n</g>\n</g>\n</svg>\n"
          },
          "metadata": {},
          "execution_count": 27
        }
      ]
    },
    {
      "cell_type": "markdown",
      "metadata": {
        "id": "QCHAcSmqSzCZ"
      },
      "source": [
        "KNN"
      ]
    },
    {
      "cell_type": "code",
      "metadata": {
        "id": "Wc2ayCSoS1C9"
      },
      "source": [
        "from sklearn.preprocessing import StandardScaler\n",
        "scaler = StandardScaler()\n",
        "scaler.fit(X_train)\n",
        "\n",
        "X_train = scaler.transform(X_train)\n",
        "X_test = scaler.transform(X_test)"
      ],
      "execution_count": null,
      "outputs": []
    },
    {
      "cell_type": "code",
      "metadata": {
        "colab": {
          "base_uri": "https://localhost:8080/"
        },
        "id": "6oqfKWEKTCUW",
        "outputId": "09617e52-0fc6-49cb-af68-d908b97ecdb0"
      },
      "source": [
        "from sklearn.neighbors import KNeighborsClassifier\n",
        "KNN = KNeighborsClassifier(n_neighbors=5)\n",
        "KNN.fit(X_train, y_train)"
      ],
      "execution_count": null,
      "outputs": [
        {
          "output_type": "execute_result",
          "data": {
            "text/plain": [
              "KNeighborsClassifier()"
            ]
          },
          "metadata": {},
          "execution_count": 30
        }
      ]
    },
    {
      "cell_type": "code",
      "metadata": {
        "colab": {
          "base_uri": "https://localhost:8080/"
        },
        "id": "EhRnURICTGa8",
        "outputId": "6d6c7640-c892-4288-abf5-9a0c87547723"
      },
      "source": [
        "from sklearn.metrics import confusion_matrix\n",
        "Y_pred = KNN.predict(X_test)\n",
        "#Accuray of the model \n",
        "print(\"Accuracy:\", accuracy_score(y_test, Y_pred))\n",
        "print(confusion_matrix(y_test, Y_pred))"
      ],
      "execution_count": null,
      "outputs": [
        {
          "output_type": "stream",
          "name": "stdout",
          "text": [
            "Accuracy: 0.5555555555555556\n",
            "[[0 0 1 0 0 0]\n",
            " [0 0 1 0 0 1]\n",
            " [0 0 0 0 0 0]\n",
            " [0 0 0 1 1 2]\n",
            " [0 0 0 0 1 0]\n",
            " [0 0 0 1 1 8]]\n"
          ]
        }
      ]
    },
    {
      "cell_type": "code",
      "metadata": {
        "colab": {
          "base_uri": "https://localhost:8080/"
        },
        "id": "EgTb9yHgTbXy",
        "outputId": "4422ba54-15df-4d68-caf1-dedc8e3281f3"
      },
      "source": [
        "error = []\n",
        "\n",
        "# Calculating error for K values between 1 and 40\n",
        "for i in range(1, 40):\n",
        "    knn = KNeighborsClassifier(n_neighbors=i)\n",
        "    knn.fit(X_train, y_train)\n",
        "    pred_i = knn.predict(X_test)\n",
        "    error.append(np.mean(pred_i != y_test))\n",
        "    print(np.mean(pred_i != y_test))"
      ],
      "execution_count": null,
      "outputs": [
        {
          "output_type": "stream",
          "name": "stdout",
          "text": [
            "0.5\n",
            "0.7222222222222222\n",
            "0.5555555555555556\n",
            "0.4444444444444444\n",
            "0.4444444444444444\n",
            "0.4444444444444444\n",
            "0.5\n",
            "0.5\n",
            "0.5\n",
            "0.3888888888888889\n",
            "0.3333333333333333\n",
            "0.4444444444444444\n",
            "0.3888888888888889\n",
            "0.2777777777777778\n",
            "0.2777777777777778\n",
            "0.3333333333333333\n",
            "0.4444444444444444\n",
            "0.3888888888888889\n",
            "0.3888888888888889\n",
            "0.4444444444444444\n",
            "0.3333333333333333\n",
            "0.3888888888888889\n",
            "0.3888888888888889\n",
            "0.4444444444444444\n",
            "0.4444444444444444\n",
            "0.4444444444444444\n",
            "0.4444444444444444\n",
            "0.4444444444444444\n",
            "0.4444444444444444\n",
            "0.4444444444444444\n",
            "0.4444444444444444\n",
            "0.4444444444444444\n",
            "0.4444444444444444\n",
            "0.4444444444444444\n",
            "0.4444444444444444\n",
            "0.4444444444444444\n",
            "0.4444444444444444\n",
            "0.4444444444444444\n",
            "0.4444444444444444\n"
          ]
        }
      ]
    },
    {
      "cell_type": "code",
      "metadata": {
        "colab": {
          "base_uri": "https://localhost:8080/",
          "height": 422
        },
        "id": "sWGqzny_Tgle",
        "outputId": "4411c901-671f-4a9a-f7f9-c21b58052fa3"
      },
      "source": [
        "plt.figure(figsize=(12, 6))\n",
        "plt.plot(range(1, 40), error, color='red', linestyle='dashed', marker='o',\n",
        "         markerfacecolor='blue', markersize=10)\n",
        "plt.title('Error Rate K Value')\n",
        "plt.xlabel('K Value')\n",
        "plt.ylabel('Mean Error')"
      ],
      "execution_count": null,
      "outputs": [
        {
          "output_type": "execute_result",
          "data": {
            "text/plain": [
              "Text(0, 0.5, 'Mean Error')"
            ]
          },
          "metadata": {},
          "execution_count": 33
        },
        {
          "output_type": "display_data",
          "data": {
            "image/png": "[encoded data removed]",
            "text/plain": [
              "<Figure size 864x432 with 1 Axes>"
            ]
          },
          "metadata": {
            "needs_background": "light"
          }
        }
      ]
    }
  ]
}